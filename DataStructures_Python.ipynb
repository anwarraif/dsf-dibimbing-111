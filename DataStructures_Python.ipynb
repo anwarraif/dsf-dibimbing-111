{
  "cells": [
    {
      "cell_type": "markdown",
      "metadata": {
        "id": "SaEtH-1SeuW1"
      },
      "source": [
        "Author: [Kurnia Anwar Ra'if](https://www.linkedin.com/in/anwaraif/)"
      ]
    },
    {
      "cell_type": "markdown",
      "metadata": {
        "id": "1q5ie2R3Pj59"
      },
      "source": [
        "# Basic Syntax"
      ]
    },
    {
      "cell_type": "markdown",
      "metadata": {
        "id": "6qMdPjdOP3p9"
      },
      "source": [
        "Use `print(..)` to print something"
      ]
    },
    {
      "cell_type": "code",
      "execution_count": null,
      "metadata": {
        "id": "r0rlMTZ3P3ME",
        "outputId": "00031cad-ac9a-47a9-d355-39a705da0354",
        "colab": {
          "base_uri": "https://localhost:8080/"
        }
      },
      "outputs": [
        {
          "output_type": "stream",
          "name": "stdout",
          "text": [
            "Hello Teman Kelas\n",
            "dinda\n",
            "okta\n"
          ]
        }
      ],
      "source": [
        "print('Hello Teman Kelas')\n",
        "print('dinda')\n",
        "print(\"okta\")\n"
      ]
    },
    {
      "cell_type": "markdown",
      "metadata": {
        "id": "Y4_xf8NkPoD2"
      },
      "source": [
        "Use `=` to do the variable assignment"
      ]
    },
    {
      "cell_type": "code",
      "execution_count": null,
      "metadata": {
        "id": "ljQDAyNgPl6r",
        "colab": {
          "base_uri": "https://localhost:8080/"
        },
        "outputId": "4dac6d4e-2e80-462b-a921-5aef6ac5775c"
      },
      "outputs": [
        {
          "output_type": "stream",
          "name": "stdout",
          "text": [
            "4\n"
          ]
        }
      ],
      "source": [
        "x=4\n",
        "print (x)"
      ]
    },
    {
      "cell_type": "markdown",
      "metadata": {
        "id": "mCMbuILJSNec"
      },
      "source": [
        "Use `==` to do variable comparison"
      ]
    },
    {
      "cell_type": "code",
      "execution_count": null,
      "metadata": {
        "id": "SjBnXLr8SPze",
        "outputId": "2f3d4bbe-ad6c-44c4-cbda-87dc80b4d562",
        "colab": {
          "base_uri": "https://localhost:8080/"
        }
      },
      "outputs": [
        {
          "output_type": "stream",
          "name": "stdout",
          "text": [
            "False\n",
            "Kurnia\n",
            "4\n",
            "False\n",
            "delisha\n"
          ]
        }
      ],
      "source": [
        "x = 1\n",
        "y = 2\n",
        "ini_string = 'Kurnia'\n",
        "\n",
        "print(x==y)\n",
        "print(ini_string)\n",
        "\n",
        "d = 4\n",
        "e = 5\n",
        "ini = 'delisha'\n",
        "\n",
        "print(d)\n",
        "print(d==e)\n",
        "print(ini)"
      ]
    },
    {
      "cell_type": "markdown",
      "metadata": {
        "id": "Ad16sajxPuTc"
      },
      "source": [
        "Use `#` for code commenting"
      ]
    },
    {
      "cell_type": "code",
      "execution_count": null,
      "metadata": {
        "id": "D7ixEMPhPz41"
      },
      "outputs": [],
      "source": [
        "# this is a comment\n",
        "# x = 1"
      ]
    },
    {
      "cell_type": "markdown",
      "metadata": {
        "id": "j4WhNIk6ggK8"
      },
      "source": [
        "You can easily write an if-else statement in Python."
      ]
    },
    {
      "cell_type": "markdown",
      "metadata": {
        "id": "g6kVv0aMvGjb"
      },
      "source": [
        "#### conditional statement in python"
      ]
    },
    {
      "cell_type": "code",
      "execution_count": null,
      "metadata": {
        "id": "Ij0ddFBhgfpU",
        "outputId": "a8041506-370f-4b22-fba6-4d182d89037a",
        "colab": {
          "base_uri": "https://localhost:8080/"
        }
      },
      "outputs": [
        {
          "output_type": "stream",
          "name": "stdout",
          "text": [
            "x is not greater than 2\n",
            "gagal\n"
          ]
        }
      ],
      "source": [
        "x = -1\n",
        "if x>2:\n",
        "    print('x is greater than 2')\n",
        "else:\n",
        "    print('x is not greater than 2')\n",
        "\n",
        "\n",
        "d = 3\n",
        "if d>5:\n",
        " print ('lulus')\n",
        "else :\n",
        " print ('gagal')"
      ]
    },
    {
      "cell_type": "markdown",
      "metadata": {
        "id": "ZMQitq16g1aj"
      },
      "source": [
        "How about If-else if-else?"
      ]
    },
    {
      "cell_type": "code",
      "execution_count": null,
      "metadata": {
        "id": "jRpRh81qg4Pj",
        "outputId": "d4df4556-f6c3-4ffe-d577-4c91641c0ac8",
        "colab": {
          "base_uri": "https://localhost:8080/"
        }
      },
      "outputs": [
        {
          "output_type": "stream",
          "name": "stdout",
          "text": [
            " x is between 1 and 5\n",
            "rata - rata\n"
          ]
        }
      ],
      "source": [
        "x = 3\n",
        "if x>5:\n",
        "    print('x is greater than 5')\n",
        "elif x>1 :\n",
        "    print(' x is between 1 and 5')\n",
        "else:\n",
        "    print('x is not greater than 1')\n",
        "\n",
        "t=8\n",
        "if t>10:\n",
        " print('pintar')\n",
        "elif t<5:\n",
        " print('parah')\n",
        "else:\n",
        " print('rata - rata')"
      ]
    },
    {
      "cell_type": "code",
      "execution_count": null,
      "metadata": {
        "id": "U1Bs9yOBvGjh",
        "outputId": "773df2cc-e63c-4cfd-dc2a-b5b4af1c7ab9",
        "colab": {
          "base_uri": "https://localhost:8080/",
          "height": 141
        }
      },
      "outputs": [
        {
          "output_type": "error",
          "ename": "SyntaxError",
          "evalue": "ignored",
          "traceback": [
            "\u001b[0;36m  File \u001b[0;32m\"<ipython-input-15-ec815e6f11a7>\"\u001b[0;36m, line \u001b[0;32m6\u001b[0m\n\u001b[0;31m    do something\u001b[0m\n\u001b[0m       ^\u001b[0m\n\u001b[0;31mSyntaxError\u001b[0m\u001b[0;31m:\u001b[0m invalid syntax\n"
          ]
        }
      ],
      "source": [
        "### Rumus Baku Conditional Statement\n",
        "variable = sesuatu\n",
        "\n",
        "#### Satu kondisi\n",
        "if (kondisi):\n",
        "    do something\n",
        "elif (kondisi):\n",
        "    do something\n",
        "\n",
        "#### lebih dari 2 kondisi\n",
        "if (variable sesuatu atau kondisi):\n",
        "    do something\n",
        "elif (kondisi) :\n",
        "    do something\n",
        "else:\n",
        "    do something"
      ]
    },
    {
      "cell_type": "markdown",
      "source": [
        "#### Hands-On 1\n",
        "Buat program Python yang meminta pengguna memasukkan sebuah bilangan dan kemudian menentukan apakah bilangan tersebut positif, negatif, atau nol."
      ],
      "metadata": {
        "id": "k3JgxyCKStld"
      }
    },
    {
      "cell_type": "code",
      "source": [
        "# Meminta pengguna memasukkan sebuah bilangan\n",
        "#bilangan = float(input(\"Masukkan sebuah bilangan: \"))\n",
        "\n",
        "# Menentukan apakah bilangan positif, negatif, atau nol\n",
        "#if bilangan > 0:\n",
        "#    print(\"Bilangan tersebut adalah bilangan positif.\")\n",
        "#elif bilangan < 0:\n",
        "   # print(\"Bilangan tersebut adalah bilangan negatif.\")\n",
        "#else:\n",
        " #   print(\"Bilangan tersebut adalah nol.\")\n",
        "\n",
        "a=\n",
        "if a>0:\n",
        " print(\"angka positif\")\n",
        "elif a<0:\n",
        " print(\"angka negatif\")\n",
        "else:\n",
        " print(\"bilangan nol\")"
      ],
      "metadata": {
        "id": "Trr5VKaeSrGf",
        "colab": {
          "base_uri": "https://localhost:8080/",
          "height": 159
        },
        "outputId": "dfbc4611-6723-4459-c968-994f3a10ecef"
      },
      "execution_count": null,
      "outputs": [
        {
          "output_type": "error",
          "ename": "SyntaxError",
          "evalue": "ignored",
          "traceback": [
            "\u001b[0;36m  File \u001b[0;32m\"<ipython-input-9-c42044cea58d>\"\u001b[0;36m, line \u001b[0;32m17\u001b[0m\n\u001b[0;31m    else a=0:\u001b[0m\n\u001b[0m         ^\u001b[0m\n\u001b[0;31mSyntaxError\u001b[0m\u001b[0;31m:\u001b[0m expected ':'\n"
          ]
        }
      ]
    },
    {
      "cell_type": "markdown",
      "source": [
        "### Hands-On 2\n",
        "Buat program Python yang meminta pengguna memasukkan sebuah bilangan bulat dan menentukan apakah bilangan tersebut genap atau ganjil."
      ],
      "metadata": {
        "id": "-6pNCgAJS8Gu"
      }
    },
    {
      "cell_type": "code",
      "source": [
        "# Meminta pengguna memasukkan sebuah bilangan bulat\n",
        "bilangan = int(input(\"Masukkan sebuah bilangan bulat: \"))\n",
        "\n",
        "# Menentukan apakah bilangan tersebut genap atau ganjil\n",
        "if bilangan % 2 == 0:\n",
        "    print(f\"{bilangan} adalah bilangan genap.\")\n",
        "else:\n",
        "    print(f\"{bilangan} adalah bilangan ganjil.\")"
      ],
      "metadata": {
        "id": "O4hjvMjnSrVA",
        "colab": {
          "base_uri": "https://localhost:8080/"
        },
        "outputId": "338ae3b9-0963-4e51-8cfc-386d9ed41c70"
      },
      "execution_count": null,
      "outputs": [
        {
          "output_type": "stream",
          "name": "stdout",
          "text": [
            "Masukkan sebuah bilangan bulat: 8\n",
            "8 adalah bilangan genap.\n"
          ]
        }
      ]
    },
    {
      "cell_type": "markdown",
      "metadata": {
        "id": "xJHnCv1uM-QW"
      },
      "source": [
        "# Data Structures & Basic Operations"
      ]
    },
    {
      "cell_type": "markdown",
      "metadata": {
        "id": "Y61Y2YGkNEVk"
      },
      "source": [
        "## Primitive Data Structures"
      ]
    },
    {
      "cell_type": "markdown",
      "metadata": {
        "id": "o1kQBmZqNH98"
      },
      "source": [
        "### Integer"
      ]
    },
    {
      "cell_type": "markdown",
      "metadata": {
        "id": "FN48eoMJNOc0"
      },
      "source": [
        "Integer is a whole number, ranges from negative infinity to positive infinity"
      ]
    },
    {
      "cell_type": "code",
      "execution_count": null,
      "metadata": {
        "id": "7tCk3lfSL_if",
        "outputId": "98b11c94-3177-4588-cd1f-4af6c59d7e29",
        "colab": {
          "base_uri": "https://localhost:8080/"
        }
      },
      "outputs": [
        {
          "output_type": "stream",
          "name": "stdout",
          "text": [
            "11\n"
          ]
        }
      ],
      "source": [
        "x = 11\n",
        "print(x)"
      ]
    },
    {
      "cell_type": "code",
      "execution_count": null,
      "metadata": {
        "id": "dqFGYvvkNYWl",
        "outputId": "b0806fc8-4ddb-446b-8637-57a4d4dc8a58",
        "colab": {
          "base_uri": "https://localhost:8080/"
        }
      },
      "outputs": [
        {
          "output_type": "stream",
          "name": "stdout",
          "text": [
            "30\n"
          ]
        }
      ],
      "source": [
        "y = 30\n",
        "print(y)"
      ]
    },
    {
      "cell_type": "markdown",
      "metadata": {
        "id": "SG0cUurFNZ7z"
      },
      "source": [
        "### Float sama dengan Desimal"
      ]
    },
    {
      "cell_type": "markdown",
      "metadata": {
        "id": "rOARAuqoNdIb"
      },
      "source": [
        "Float is the decimal number or floating points number, ranges from negative infinity to positive infinity"
      ]
    },
    {
      "cell_type": "code",
      "execution_count": null,
      "metadata": {
        "id": "wH9_9aQXNY1U",
        "outputId": "b0953c8f-98da-4ec1-cac5-12e7c129382a",
        "colab": {
          "base_uri": "https://localhost:8080/"
        }
      },
      "outputs": [
        {
          "output_type": "stream",
          "name": "stdout",
          "text": [
            "2.5\n"
          ]
        }
      ],
      "source": [
        "x = '1.5' #kategorikal / string\n",
        "y = 2.5 #numerikal\n",
        "print(y)\n",
        "#pd.read_csv() -> .read_csv()"
      ]
    },
    {
      "cell_type": "code",
      "execution_count": null,
      "metadata": {
        "id": "EkLn1LfRNky8",
        "outputId": "4a117b2b-14be-4a75-c250-31c589c0b357",
        "colab": {
          "base_uri": "https://localhost:8080/"
        }
      },
      "outputs": [
        {
          "output_type": "stream",
          "name": "stdout",
          "text": [
            "-9.9\n"
          ]
        }
      ],
      "source": [
        "y = -9.9\n",
        "print(y)"
      ]
    },
    {
      "cell_type": "markdown",
      "metadata": {
        "id": "o_GMEQThNn--"
      },
      "source": [
        "### Basic Operation with Integer and Float"
      ]
    },
    {
      "cell_type": "markdown",
      "metadata": {
        "id": "2Ovq9iYEOJ4V"
      },
      "source": [
        "There are several basic calculation you can do with the integer and float type of data, including: addition, substraction, multiplication, division, modulo, floor division, power, and absolute value."
      ]
    },
    {
      "cell_type": "code",
      "execution_count": null,
      "metadata": {
        "id": "Amw8DwrNOjhs"
      },
      "outputs": [],
      "source": [
        "x = 7\n",
        "y = 3"
      ]
    },
    {
      "cell_type": "code",
      "execution_count": null,
      "metadata": {
        "id": "CL1jWi8cPTXM",
        "outputId": "146e9272-103c-4a94-a06b-455f970237ba",
        "colab": {
          "base_uri": "https://localhost:8080/"
        }
      },
      "outputs": [
        {
          "output_type": "stream",
          "name": "stdout",
          "text": [
            "4\n"
          ]
        }
      ],
      "source": [
        "# Substraction\n",
        "print(x-y)"
      ]
    },
    {
      "cell_type": "code",
      "execution_count": null,
      "metadata": {
        "id": "k-3xNUh9OdUk",
        "outputId": "0de88f9d-d2f1-45b6-f47b-cb5f8c482ee5",
        "colab": {
          "base_uri": "https://localhost:8080/"
        }
      },
      "outputs": [
        {
          "output_type": "stream",
          "name": "stdout",
          "text": [
            "10\n"
          ]
        }
      ],
      "source": [
        "# Addition\n",
        "print(x+y)"
      ]
    },
    {
      "cell_type": "code",
      "execution_count": null,
      "metadata": {
        "id": "SyR12S0RPWy8",
        "outputId": "7e169628-8654-4bec-9dbb-5ca6518a1e1b",
        "colab": {
          "base_uri": "https://localhost:8080/"
        }
      },
      "outputs": [
        {
          "output_type": "stream",
          "name": "stdout",
          "text": [
            "2.3333333333333335\n"
          ]
        }
      ],
      "source": [
        "# Division\n",
        "print(x/y)"
      ]
    },
    {
      "cell_type": "code",
      "execution_count": null,
      "metadata": {
        "id": "gqT3SVg3PVDz",
        "outputId": "9f11e0a1-c0ee-4fd9-d6ee-5bee86956549",
        "colab": {
          "base_uri": "https://localhost:8080/"
        }
      },
      "outputs": [
        {
          "output_type": "stream",
          "name": "stdout",
          "text": [
            "21\n"
          ]
        }
      ],
      "source": [
        "# Multiplication\n",
        "print(x*y)"
      ]
    },
    {
      "cell_type": "code",
      "execution_count": null,
      "metadata": {
        "id": "LZGfzMjxPaaD",
        "outputId": "5011b6bd-3bcf-4293-a26d-561d2ac73fe7",
        "colab": {
          "base_uri": "https://localhost:8080/"
        }
      },
      "outputs": [
        {
          "output_type": "stream",
          "name": "stdout",
          "text": [
            "1\n"
          ]
        }
      ],
      "source": [
        "# Floor Division\n",
        "print(x // y)\n",
        "# 7/3 = 2,3333 tapi karena floor maka hasilnya 1 (dikebawahin)"
      ]
    },
    {
      "cell_type": "code",
      "execution_count": null,
      "metadata": {
        "id": "wU3piQGmPcb8",
        "outputId": "d29cc55e-28dd-4c8f-9806-e9a3ead8a6e2",
        "colab": {
          "base_uri": "https://localhost:8080/"
        }
      },
      "outputs": [
        {
          "output_type": "stream",
          "name": "stdout",
          "text": [
            "9\n",
            "1.4142135623730951\n"
          ]
        }
      ],
      "source": [
        "# Power / Exponentiation\n",
        "print(x ** y)\n",
        "print(y ** 0.5) # square root"
      ]
    },
    {
      "cell_type": "code",
      "execution_count": null,
      "metadata": {
        "id": "P-XZ8OjuPYiL",
        "outputId": "3567aafc-da2f-4c91-f85a-cc79156813b4",
        "colab": {
          "base_uri": "https://localhost:8080/"
        }
      },
      "outputs": [
        {
          "output_type": "stream",
          "name": "stdout",
          "text": [
            "1\n"
          ]
        }
      ],
      "source": [
        "# Modulo\n",
        "print(x % y)\n",
        "# x % y = 7 % 3 -> 2,... -> 1 (1 merupakan sisa dari pembagian 7/3 -> 2,... 7-6 = 1)"
      ]
    },
    {
      "cell_type": "markdown",
      "metadata": {
        "id": "Ri1QvhVHRzHM"
      },
      "source": [
        "### Boolean"
      ]
    },
    {
      "cell_type": "markdown",
      "metadata": {
        "id": "h4KzSEgcR-r7"
      },
      "source": [
        "Boolean is the built-in data type than is either `True` or `False`"
      ]
    },
    {
      "cell_type": "code",
      "execution_count": null,
      "metadata": {
        "id": "5eO5C2DQR1PM",
        "outputId": "2955e16b-0cfb-45c8-fc08-60e78d956bc1",
        "colab": {
          "base_uri": "https://localhost:8080/"
        }
      },
      "outputs": [
        {
          "output_type": "stream",
          "name": "stdout",
          "text": [
            "False\n"
          ]
        }
      ],
      "source": [
        "x=False\n",
        "print(x)"
      ]
    },
    {
      "cell_type": "markdown",
      "metadata": {
        "id": "R5UD2oVXSm0d"
      },
      "source": [
        "### Basic Operation with Boolean"
      ]
    },
    {
      "cell_type": "markdown",
      "metadata": {
        "id": "P7piO2RTTYI8"
      },
      "source": [
        "There are several basic calculation you can do with the boolean type of data, including `or`, `and`, `not`."
      ]
    },
    {
      "cell_type": "code",
      "execution_count": null,
      "metadata": {
        "id": "5rBrf2TtSrC0"
      },
      "outputs": [],
      "source": [
        "x = False\n",
        "y = True\n",
        "#true = 1\n",
        "#false = 0"
      ]
    },
    {
      "cell_type": "code",
      "execution_count": null,
      "metadata": {
        "id": "qGZ4RDm_SyY-",
        "outputId": "c68cae2b-24e7-475d-8741-d724baab824f",
        "colab": {
          "base_uri": "https://localhost:8080/"
        }
      },
      "outputs": [
        {
          "output_type": "stream",
          "name": "stdout",
          "text": [
            "False\n",
            "False\n"
          ]
        }
      ],
      "source": [
        "# True and False equals to False\n",
        "print(x and y)\n",
        "print(y and x)"
      ]
    },
    {
      "cell_type": "code",
      "execution_count": null,
      "metadata": {
        "id": "Irn7e1_wTqpj",
        "outputId": "19097d48-1533-4b8b-bca3-50b81ae98300",
        "colab": {
          "base_uri": "https://localhost:8080/"
        }
      },
      "outputs": [
        {
          "output_type": "stream",
          "name": "stdout",
          "text": [
            "True\n"
          ]
        }
      ],
      "source": [
        "# Not True equals to False\n",
        "# Not False equals to True\n",
        "print(not x)\n",
        "# not = negasi"
      ]
    },
    {
      "cell_type": "code",
      "execution_count": null,
      "metadata": {
        "id": "sdrUsXGvSssr",
        "outputId": "1e78bbb8-a105-4947-fea1-d0f2a691d6f3",
        "colab": {
          "base_uri": "https://localhost:8080/"
        }
      },
      "outputs": [
        {
          "output_type": "stream",
          "name": "stdout",
          "text": [
            "True\n"
          ]
        }
      ],
      "source": [
        "# True or False equals to True\n",
        "print(x or y)"
      ]
    },
    {
      "cell_type": "code",
      "execution_count": null,
      "metadata": {
        "id": "Q5eQIU3qS087",
        "outputId": "0c53b0e9-493e-4341-994e-e6548ef688f4",
        "colab": {
          "base_uri": "https://localhost:8080/"
        }
      },
      "outputs": [
        {
          "output_type": "stream",
          "name": "stdout",
          "text": [
            "1\n",
            "-1\n",
            "1\n"
          ]
        }
      ],
      "source": [
        "# We can also treat boolean value as 1 (True) or 0 (False)\n",
        "# x = False , y=True\n",
        "print(x + y)\n",
        "print(x - y)\n",
        "print(y - x)"
      ]
    },
    {
      "cell_type": "markdown",
      "metadata": {
        "id": "bQnfeURKUqc0"
      },
      "source": [
        "![image.png](data:image/png;base64,iVBORw0KGgoAAAANSUhEUgAAAdgAAACdCAYAAAAXO2nyAAAgAElEQVR4Ae2dCbBUxfX/zS/RqpQxGrdYblHLxIpGTYzBuAQB2QQUZBcQZN/3fZFdEJBF2ZQdQXaQXUUiinvcomIQjBiiSAQkahSJMel/fU79+9VlmLnTzJvuubx3umreLLfnvns/c7q/55y+t/sEo0UJKAEloASUgBLIO4ET8r5H3aESUAJKQAkoASVgVGDVCJSAElACSkAJeCCgAusBqu5SCSgBJaAElIAKrNqAElACSkAJKAEPBFRgPUDVXSoBJaAElIASUIFVG1ACSkAJKAEl4IGACqwHqLpLJaAElIASUAIqsGoDSkAJKAEloAQ8EFCB9QBVd6kElIASUAJKQAVWbUAJKAEloASUgAcCKrAeoOoulYASUAJKQAmowKoNKAEloASUgBLwQEAF1gNU3aUSUAJKQAkoARVYtQEloASUgBJQAh4IqMB6gKq7VAJKQAkoASWgAqs2oASUgBJQAkrAA4GsAvuvf/3LfP755+bLL7/URxYGcFJWbnairJRTvvsUtSk3m4K7sjo2Vv/5z39ykt+sAvu3v/3NPPfcc+bdd9/VRxYGzz77rPnTn/6knLJwwpY2bdpk3nrrLWWVhdU777xjnnjiCeWUhRM29dprr5ktW7YoKwdWL7zwgnnxxReVlQOrp59+2vzzn//0I7D/+Mc/zIcffpjTzkvbl/7617+a/fv3l7bTzul8//znP5tvvvkmp++Wpi/hOSMcWrIToBN87733slfUGubvf/+72bNnj5JwIPCXv/zFfPHFFw41j66SNYJVgT0aWqZPVGAzkTn6cxXYo5mk+0QFNh2V9J+pwKbnku5TFdh0VNJ/pgKbnkvwT1Vg3ZGrwLqxUoF140QtFVh3Viqw7qxUYN1Zea2pAuuOVwXWjZUKrBsnaqnAurNSgXVnpQLrzsprTRVYd7wqsG6sVGDdOFFLBdadlQqsOysVWHdWXmuqwLrjVYF1Y6UC68aJWiqw7qxUYN1ZlRqB/fjjj82aNWsMz//973/NwYMHzdq1a83OnTsNHVGhS1IElqtzX331VfPSSy+Zf//73+Z///uf4X5mbrfi1pjvvvuu0KiMD4HlPLm/7/nnnzfbtm2T8zx8+LB5++23hce3334rLKjDpffLli0zK1euFC5fffWV4QEzPo8+NmzYIJ030NL9D74Hbx78j3yWfAss7WbXrl1yiwZXkfKeZ5jxeerxYzdbt24t4vHMM8/IlfJwwM7eeOMNs3r16qLt69evP2o/3HfJPl5//XVhDJ8DBw7Ib8DvxG+Uj5IPgWUfjz/+uKFTpe18/fXXhltaMtmr3f7KK69IG4MLZe/evQa74Q4MfkNbb8eOHbLfDz74wKxbt66IG/Zm61oW/DYcB78NfR375vfhqnJuB+S3sf/Pfsf1OR8Cu2/fPrNixQqze/du+bdcafvUU0/JMUePw9bjf1Jsve3bt8t7a+O2zbFP7IPC+WEjdhvPbLfflUrGCGO4wIrfjYJ9YnfYaHH6vFIjsHR+v/vd78z9999vuLr50UcfNb/5zW8EeBJu+UiCwGKQNMZ77rnHlCtXTm5bwIDpJKpUqWIeeuihozpRa6QhnzN1WMU5BhoRYsp53nXXXdLwuW2qf//+pnnz5sIFNosXLzaNGjUy9erVk0eLFi3EhujgJkyYYGrVqiV2dfHFF5uaNWuaDh06iGhwbHR6dI7t27eX//H+++9LI65Ro4YZNWpUkYAU5zyi37WdT/Sz4rxmf4hg48aNzfTp06VTHz9+vKlfv744r4cOHSraPR340qVLzZ133mluv/12U6dOHdOsWTOzcOFC8+mnn4owd+rUydx4442yHZ7UY390prbzxyGGMY8333xTOsDHHnvMVK9e3cyYMSPnWyCKDvT/v8iHwGIDt912m+ncubNBDHHEsIFJkyaZzz77LPVfir3RzqpVqyYdOXwpGzduNBdddJEZNGiQ+eSTT8R+2A/2hQ1y3vRlt956q6lbt66pVKmSGTFihGHeAWyMgpjOmjVL2jFiTR9HH9OkSRMzePBgCTQsY/nCMfwprsBa4bvyyivN0KFD5ZxwtG644QZpX/ZQqMe93LYeDPntqbdkyRIRRkSxTZs2pnbt2sLilltukbaEyNKmhwwZYi699NKi7TCjTVoR5n/hwMAPptwTzf/F1sqXLy+/nRVde1zH8lxqBBaDwzCrVq1qRo8eLQ174MCBRR71sUDzUTcJAst50chxRn7729+a++67T4QGI0VUcEySUHwK7E033WTOOusscSbo3KzAcu6bN28WEVi1apVgoGEuX75chJYb7ylEuFOnThVBoNNOLTRWPPUyZcqYLl26iHjffPPN0vml1i3u+3wLLMdDBz927FgR1Z49exqOnU6SqMsWOnmcMjq9KVOmCBMrzjgXZJJwNBBYRIMohYKwwOSPf/yj2CGf8T2iNSvq/Pa9e/cW8aHN5KvkQ2A5FiJYRHbAgAFy/jgVRExW+OzxWgHEDmhr2BHZDIoV2F/84hfi0PD9VIGFHQ4a+yULh4PyyCOPyIx59n8g+DhvCD4d/cMPPyy/G+2b/59rKa7A8n857gULFpjrr7/ejBkzxlSuXFkcTxyzaKEe50U9+iPqIZBkNoh+cYj5Pu3KCvLVV18tQs1nw4YNMx07djQ4f2yHFU4dbdAWPse5vuqqq6Q+bR3BhTl9QHFKqRFYIAGO6OSHP/yhwXhJexbH0IoDPvW7SRFYjgtjxBkpW7asRLN33HGHsaKSetyFeO9TYCtUqGCuuOIK06BBA3E0rMDSWY0bN046eismNMyPPvrIdO/eXYSCziCbwMKLzhwn77TTThPves6cOV7s0IfAcvyk3YhIaUc4rKntiGhp8uTJplu3bpL6hgsFIe3Vq5cINCnfqMBSB3Fq166dPEejBkSdTpRIuXXr1qZp06YyvBONmOUfFONPvgQWp4tO/cwzzzTnn3++mT9/vqRjUw+N1DoOCM5Cy5Ytzb333itOCjaFwCK6RLE9evQQvkT30Qg2KrCIDayxQ+yRfdjCvhBZuPP/+F3gWZySD4Hl/8Occ//e974n/TGz2aUrHG9qPeyFyPyCCy6QKNd+j6iVLOXdd98tbTGdwMIWJy9a+J4Vcr5DVoEoubilVAksEGmop556qkQOCG7UGIsLszjfT5LAwgTPjdTLySefLCkl610X5xzz9V2fAoszQWYDAeGZDp8UMdECqTUe0SEF0sjRz10ElnFDUq0/+9nPxJvmfHwUXwJLxwibn/70p6Zr166S0o0eP1EIEcDw4cOL0uNsj35OhItIIJikMhctWmT69OkjKT0E3Iqy3S8dFVHsJZdcIs4JbTefJV8CyzExNn/hhReaihUrHpH6jR4v6WMcWK4DIW1OBEoWBIcfUSS1ThRMNEyfxb4yCSz2BOu2bdsWRbX2fyH4fP/ss88WfqSuU9nauq7P+RJYjoNsz//93/+Zhg0bHpG2jR4L/batBxdSxXwX5wXnIZp+j37OUATZFaJcGDNkgXgSwcIhtSDkRPs/+MEPxPFJjaZT67u8L1UCSxRCZEIqgDQCF11oBJveTIgg8PLwxLkoIknFp8ASJZG6YiwQG8HbRWBJaY4cOVIaIJ2xLUSz/fr1k3EfbCmbwOK80PAZc8X7xhZ9jW37EFg6MKLPVq1amcsvv1xS5szhG21HdOpE+0T/dkwLXlaYOXcu7EFg6ezoJOHMmBdRbDR6tZz5jKwKIkLETKebz5IvgWU/RIu//vWvZexw3rx5R6RtOWZYIXqI54MPPiivzz33XIm8+L4VWJ5xQK699lpxLGCKCMAhGsFagSW9Th+XGjQwnkjGjkxJPhzlfAksThLt7bLLLjPXXHONDA2k/qacC23M1sNOGELADkmrw4axZ1uwC64PoD7jrHYMFseZ4YwTTzzxqOjVfpd94vicdNJJ4uzYz4vzXGoEFsPCQBnIxmOmYTOGZK8qLg7EfHw3SREs51OaBZZ0OFcPkv4kgkdgsRMucOLiGhohDRlGRGKko2wKPZvAktYkaiEFRZTXt29f6QwYA8p38SGwdIpErzAhzU3kgWAyHmY7dv4vF61wQQ2RAylMK8yMh82dO1fGJREJojKyJYyzMj6Lc5MuhXk8CCzCSfTKRTiwwQnBoceWYGILbR02jCeStiV6tY4cV2OT+iRS48pWuLANYSCNnE5gSb2TIs50MVUSBZZ2gGP585//XIQfQeQ6j+jFR/CiHoJpHQTqkckgc4Sjzfdnz55dNAaLGGOTODB816aIcfq4YAqHlmgYm0wtKrCpRBzf0xkyqI0H88ADD0iqig6AtAsdQD5SAY6HkrGaCmxGNEdt8B3B0qnhkDEmQxoXMSENhadMtEramKvQEQPSeAgOUSklTmCxQxo5HSqdL+NwRIN0GqRaiV7yWfItsKTGGZfiSk0uXkJsidA4Hyuk9vgRTVhxzQN1cU64Oh2RIKrFYbECi0AgHHSKsCByS7395ngQWH5bolLGVRkL5dYronIcKXjggNCJYztEVETinBeF20foj7iQjitlrcByWwoiQSYpKrB8n+iXtCcXnRHZI8jRTIL9LZImsHDAMeUuDn5zfmvOOyqWHLutR3RLPeyPftzWs22NK6mJzm0KmKuqSQHT3qzAIrawp03jADFEw/ZoUYGN0jiG1xgdRk3KiivyAEsHitjiHdF5Wu/7GHab16pJE1g6ZzoIbo/g2JJUfAgsjYsojIiKjsq+Jy08bdo0sRf7GUKBqOBxE71ZcYURnjJLxNnvRLnRmXJvHRdsPPnkk7KJ+jh70dt5ot8pzut8CywiSLTARSSkvuCBcMCItGWUA8dtt8GKB+Nh9nt2X3R0drURVrPh1hQ6SvuZPX/OhU6YK2HTXZVr6+X6nI8UMcfHdQtkOBAD+h2Ek6tfGWKAl/2M87CiyzGT2iXFy3cZiyUatd8hAsY+iI4JBhAZUseWK8+k6aPXBkQ52H3H1YnWz/a6uCliOPAbE2nasVCOHSZE/jbgSVcPobT1iEJ5TyRsWUT3yfdJI5OxtI4MvzOOSvQze75oAE4Szo09Lrst1+dSkyLOFVCo7yVNYEOddy7/x4fA5nIcSf9OvgU26edbnOPLh8AW5/8fT98trsAeT+da3GNVgS0uwTx9XwXWHaQKrBsrFVg3TtRSgXVnpQLrzkoF1p2V15oqsO54VWDdWKnAunGilgqsOysVWHdWKrDurLzWVIF1x6sC68ZKBdaNE7VUYN1ZqcC6s1KBdWfltaYKrDteFVg3ViqwbpyopQLrzkoF1p2VCqw7K681VWDd8arAurFSgXXjRC0VWHdWKrDurFRg3Vl5rakC645XBdaNlQqsGydqqcC6s1KBdWflVWC5MZ/7/ri3SB/xDJi28eWXX1ZODrbCPaTcPK82FW9TrN/L1IPKKZ4TfLjnm3tQlVV2VkyQwUQRyio7K6Z1xHnLpZyQ7UsILDeFM6mDPuIZMLsNnqFyiucEH+ZGZnIQZRXPipluWJpMOcVzgg+zauGQKKvsrFjyjUkwlFV2VgQC3gSWqdSYRURLdgKaIs7OyNbQFLElEf+sKeJ4PtGtmiKO0oh/rSnieD7RrV5TxCqwUdTxr1Vg4/lEt6rARmlkfq0Cm5lN6hYV2FQimd+rwGZmk7pFBTaVSIHeq8C6g1eBdWOlAuvGiVoqsO6sVGDdWanAurPyWlMF1h2vCqwbKxVYN07UUoF1Z6UC685KBdadldeaKrDueFVg3VipwLpxopYKrDsrFVh3Viqw7qy81lSBdcerAuvGSgXWjRO1VGDdWanAurMqMQK7a9cuWdyZBbKjjypVqphNmzYVrQfojiZszZAC+/bbb5syZcocwQlmrKnIJfiso5jkEkJg4cAanFFbKlu2rCwsnm5RaxYQZ81h7jtNSgkpsAgUa+BGefGaxbJZENyu8ZkUNqnHEVJgsZVu3bodxapcuXJm2bJlGdd1TT3mQr0PJbCs151qTwMGDMjIh4XqWYQ+SaXECCydHgs+c+8tiz+zqC43RLOoMYvyFnpB9Ww/ekiBZfHhjz76SFgNGzZMFtDmPlyu+k4nHtmOPfT2EAILDxZWZzFnbIoHHSOLPKezJbZTl0Wxk1JCCixOGYukw4EJGwYOHCiLamNniFfSnbaQAsvvsn//fmG1aNEiM3z4cAkCuBcXRySdfSXFpjiOUAILl549exa1P2yL+98z8Vm4cKEZMWJEklCZEiOwUap4MnR2RLUIxuLFi82YMWNMixYtzLhx46TxP/XUU3KjNAa+atUq+eGYzaV27driNbVv396899570d16fR1SYKMnMnnyZDN37lxp2IcPHxY+EyZMEA6PPPKIgcP7778vTgqRCDNOUY+sANEJHiYNgUkNQpVQAst5rVix4qjTika31157rZk4caJBkK3A7tixoyj6rVy5skS1ODWbN282VatWNVdeeaXYIA6hzxJSYKPnQbu5//77xVYQVn4vHDlEt127dmb69OliZwgy27BBbAxnGObY1C233GLWrVsX3a3X1yEFNnoizPQzZcoUs23bNsPvtWHDBjNq1CjTsWNHM2TIEAkUiGoR3vXr10uWZO/evWJv9GewatKkicxEFd2vz9chBRZ7SFei0W3Tpk3NwYMHJbuEwCLAkyZNEjYXXXRRUVSLON91113y+a233iqTZaTbdz4/K/ECS8dGRNuvXz+ZtvGNN94Qr2jNmjUSjbBtwYIF5pVXXpGOkkZNB8EPuHTpUhHefALPtK8kCOw333wjneDgwYOFAdOhNWzYULywr7/+2pCeeeKJJ2QmJTpLZlSCVf/+/SVqQXhDlFAC27hxY3PWWWdJg7SiSETGgw6R2WxWr14tHSLiicDOnz/fYFsjR46U6RyXLFliRo8eLR0novP888+LqMyePdvgwPjMGCRBYL/77juxk65duwobnJOZM2eKnSFqtDtYvfjii+Lo4qxgUxs3bhSnGOENUZIgsNjC8uXLTe/evcUpYyhn6NCh4gDjjCC02BhTqtJvETjAas6cOfJAeEOUkAJ72mmnSfvDkbCiiJgyQxIRLeffqlUrsSMbwdKXIrrU4cFrHGA0AAeG79FG+/TpkzHdnC+OpUZgiVzpEIkuevXqJYBJ91mBXbt2ralYsaI555xzzIUXXmjOOOMM8Xb4YUKUJAksjRg2r732WlqBJaq7+OKLzXnnnSesTj31VBFZOqkQJZTARlPEdCp4wIgWosEUoIzRYi/Vq1c3zI8MN5wy5t+uUaOG2BPZkX379hns6/rrrzfnnnuuOf/8880ll1xiEB3S8r5KkgQWJ4xoDYY4FzhoUYElo9S3b19z+umni03BlewA2agQJUkCy/AW4ooQEMGRYYoKLCLB9RJnn322sMIJrFmzpghvCFYhBTaaIibDgRNCVoRngiD66lNOOUUcVyuwsGrdurW54IILJJIlHY/zUa1aNWmviDX2dd111xn6XZ+l1AgsaU9SxpkEloaMJ01HiWHzoGP0GWFEf9gkCeysWbMkJZVJYInK6DBtJwArvMpQ42yhBDZdiphUHZFEmzZtJIXJmCsRvxVY3hPJE+WSGeHCKDrDhx9+WDIARP3wsoKNWPsqSRJYsh8ML2QSWIYcSJVOnTq1qP0xJknmJERJksCS8SBDgp2kE1iybAzXYGvU4YGjFiqDFFJg06WI6SuJZufNmycRLJkmMkNWYEkRHzhwwJCtvP322w1pYhy4Bg0aSKbNMrOC7dO+Sp3AcqEKjZ2xV9JP3bt3F0/o2WeflfFGOkXEgu0IDR1liJJEgYVPo0aNZMJ4XhOVkVqBFVGbnUiexo7oMvl3iFJIgSWyJ42HM7Z7924RUcTWCiwp4i1btsjYLXZEZzho0CBJ4eGNM46GyHDFMelQn8ySKLDwI8oni4RNYTeMJXJBIlchd+rUSSbe5zfGrkiHhihJFFjG6GGA0wErbI6xbDIkpDsZZyQ6w6ZgR/o9RCm0wJI9qlu3rvTNcOGOiKjA0pfipOCcIaYIMAJLVDt+/HhBhKNL6pg26rOUOoFlnJGLLEg/IRgICEKKt0wnyUUppBa4cIAfgU4qREmiwNL5k7a79NJLJV1ev359GcMgBYMjcsUVVwirHj16yBW2ma7uyze/Qgos9kAHd9ttt5kbb7zRcO50eoyHkSJGfGn0fE766uabbxYRoSGzjYgWbqSHyab4jPqTKLAcE+OttD0ukmvevLmMhRGxwQMuDD3cdNNNYmO01xAliQJLRIpdwYKLvrhAB6cM0UBQEBmGG+644w5Jv4fKthVaYHHSbAqY8erOnTtLG7MRLBwYhqD9kQ5mHBs7ol0S0fJZhQoVJEDw2f6w2xIpsHgu/Ag0Zjp90nqIQvQ9gkpeHg+Q7aTqMGg+w4BDpof5IQolsHDi/DE0WNHRpL6nQeFNw8re8gRjontYIR6+DTXayYYQWBopV0anS1FiJ6TkyIYQjVIPZwRu1MfO+Bw2pKH4DLaw4z082e4zPQwvjoM0f+gCO9qbFUcuNMSuou+xJ+wHm2Ib34EHtgS3kOlh+BRKYGFCG+T8sRFsBXuKvsdmeMCKunCCKQxhFTI9DKtQAgsHHqkFTrZ98YzN0P542Pq8hg0P+xl9lGUGTxj7LiVSYH1D87H/Qgmsj3Pxvc8QAuv7HELsv1ACG+Lc8v0/CiWw+T6PEPsLJbAhzsX3/1CB9U3Ycf8qsI6gjJHbXGw05P6t0ldTBdb9N1eBdWelAuvOSgXWnZXXmiqw7ng1gnVjpQLrxolaKrDurFRg3VmpwLqz8lpTBdYdrwqsGysVWDdO1FKBdWelAuvOSgXWnZXXmiqw7nhVYN1YqcC6caKWCqw7KxVYd1YqsO6svNZUgXXHqwLrxkoF1o0TtVRg3VmpwLqz8iqwXCLNbD/MqqGPeAaIBiKrnOI5wYf7KLnMXlnFs+KWBCZwUE7xnODz4Ycfmtdff11ZOfTVTB/LZA9qV9ntigVkcN5yKSdk+xICy2w/3OCrj3gGTKzP1F7KKZ4TfJjTFs9QWcWzYiJ0ZrBRTvGc4PPWW2/JBCLKKjsrFmhgEh5llZ0Vs955E1hugMYz1JKdgKaIszOyNTRFbEnEP2uKOJ5PdKumiKM04l9rijieT3Sr1xSxCmwUdfxrFdh4PtGtKrBRGplfq8BmZpO6RQU2lUjm9yqwmdmkblGBTSVSoPcqsO7gVWDdWKnAunGilgqsOysVWHdWKrDurLzWVIF1x6sC68ZKBdaNE7VUYN1ZqcC6s1KBdWfltaYKrDteFVg3ViqwbpyopQLrzkoF1p2VCqw7K681VWDd8arAurFSgXXjRC0VWHdWKrDurEqMwNJAVq9eLYunP/DAA0XPLGz9wQcfeF8azB15+pohBJYlrrgvMsqHtXG5RSjd0mks54SBIGhJKiEElmWwNm7ceASrefPmmXfeeSctK5YRYxu/Y1JKSIFl8QWWxovaFq9nzpwp9y1je0kuoQSWe0hZqzTKiQXTWXKNZdhSC7c6wpXl15JSQgos99ouWrToCF6wW7JkiSxpGHKZzFz4lxiB5ab6adOmmS5dupjq1aub8uXLm7vvvtvcd999MtkFnU2SSwiBZV3E/v37y6LfcOLRq1cvs3bt2rRrI9KoERUMOkklhMDSEbZv395Uq1ZNOMFq+PDhstB1OmeEjpAF11euXJkYVCEFlnVMuecWTiwMziLhderUMQMGDDDr1q2TtZYTAybNgYQSWMS1atWqpkWLFkV2NWvWLFnTNZ3APvHEE2bMmDEiJmkOuyAfhRRYJpQZO3assKpUqZIsPN+qVStz//33HxeBU4kR2KilPfbYY9LZ7dq1SxYC37Ztm0RpCAmzAG3ZssWwjQiNbcxKYhfDXrZsmQjKhg0bZKaS6H59vg4lsIhEOsGMRrdTp041NGyiOCuwLDJuo1+EBJGjQ8DzXrFihZkyZYpZtWpV0eLGPlmFElhYcW6pJRrd0jm+/PLLctO9FdjodjIo/LaIMjbHe+phg76jkpACG2XEBBd0gM8884zYCLfrccP9008/bWhXRGS0Q7twPZMWYEcsWL9161axzwULFpidO3dGd+v1dUiBxa4+/vjjo84nGt0uXbpURJcsihXY6HZYYj+0W2wJm5o/f77MO+A7mAgpsFFInB8ZEeyJ9sTMW9gR/T02tWnTJnFE6NfZRruDD8eLPdHvbd68WRatj+7X5+sSL7AAnjFjhunXr58ZNWqUWbhwoXhDa9asEdBss40Zce3du7fp0KGD6dGjh3QICG+IEkpgBw4caGrXri3GZkWRzoUODgPu3Lmzadu2rcFLxPlAYCdOnCgNt2vXrqZ169ayfciQIdJJIEDsk8ilT58+Eg2ni/DyyTCUwHK+RBo0TDowOrUvvvhCGi7sOnXqZFq2bCmRLSJLncWLF4sjwjZYEQVjY4gOLLHDbNFwvlglQWCxBQQUliNHjjQ4bw8++KDYDHbHrEB8/uabb8rroUOHSvuD0cMPPyx2mS8ecfsJKbD169cXm8GurCiSAcCpJeLv2LGjufPOO8XeGPZCYAkCxo0bZ9q1ayd2BR9mn0JcydJ1795dGOPwkc1LFw3Hnf+xbEuCwOKcwYO+Z/To0ZIypq0SBOB4EPWSTWJ4kHZHf06/3rNnT7FHdCFEKTUCi9eIke7YsUPSoqkCS3oLYaEjwPtu2LChGTZsmCH1F6KEEthoiphGiVDs27dPogfSMUQQI0aMkDQ7EQjGOWHCBIP3jJiMHz9eUoEICV5jkyZNhCefIyoYOeMmPksogY2miPv27WuIKohOSbUTjRKNwZB6Tz75pAgsDtzjjz8uLBBWxtd44GU3b95cOgQcPRwYhAXB9lWSJLAMRZAqhh9pUjrGqMBia5MmTTJ169aV9kdHSKqZDjNECSmw0RQxbQ1HljF82g22jWNRo0YNcdaWL18uAsvnMBs8eLBwZFwSp4SAAEFGULBRxBunhSjOV0mSwFymF68AABuBSURBVNKWPvroI7n+oU2bNkcJLFEtzgqOLf16zZo1pQ/DCQlRSo3AIhJ0ipkElg6wadOmplGjRhJh4CHSESA6IUoogU2XIuZCAc6TSB4jREjLli0rKT4EFk8bUeE1RgwbxOP55583tWrVMs2aNZPPrGDv37/fK7JQApsuRYznS6OZM2eOOCL16tWTsX4rsHSI2BnMcNjo9Lgggw6RMUnYwo/PyZjA1VdJksASmSGimQSWjhDet956a1H7u/fee2V+bl98ovsNKbCcZ2qKGIHFYSPCJ9q6/vrrpT1agd29e7ekQHFUiGKJakmPIq70WURn2JUV7NIisPAiZcwFhukElgwbGTuux4EPD4ZpsMMQpdQJLHMj07kBfu/evZI2RixIzwwaNEiiM66IxKvEQ/QZYUR/4EIKLI2RxopYsjgDkT7Rg41gSRHj8eEZ79mzR5j94Q9/kDFXojfGNUgFwhahIX3jsxRSYOkIaaCk0jkOOkXsyQoskT1ZDxo828mIEOUTlWBfjA0x7MB20so+O8IkCixChiNHRIEtwQ3RIP1Oip20H4zpNLHJVCHyZVeFFlhshgwH9oOYduvWzSCuVmBpk9gOfRbOWoUKFWQ8EqeWNDPHj2NLJg52Pq+uTVIEawWWwAnHg4VAOH8ie1gyhk02hFVt6JdgSGqdlHyIUuoElrFGxizoIEmPElHwIyGopDnxHkk70BkiwqE8nUIKLOJoU8CkmojcSauQ2rQpYsYy2EaEi/fMGCxLESIceIWk90h5Tp482bvxFlJgEUebAmYsERZ0coyVIRCIL8JpWRFRcHU7YoF9IcY8w4rO06czkkSBxXnFmSWiYOwMPkRfDDfAFYeNoRn4kHVixZYQpdACyzCNTQHT5uDDM9kPbAyHjHZJ++OBg0IGiT4KB4U68CTqp62WNoHFuYAJ/TftkCE+hmtwTBjXR3Dp9xkiwynGiQtRSqTA4qFgfIxpIB50blwMEH1PmoYGjBETtXEFI6k9ojUEI2R6mB86hMDazo3INFq4IIJUJZ4wjZWxRsbL8PqIWqlPapRn2CASvOZ7RLakQ0OlhznuEAJLpIAQ8L+ihY4LO8E5w4YQSaIwWHE/MfVxyvgcVnR6fIbY4cTRyOHnOz3MMRdKYLEJIlLEEV5EZNhT9D1Oxz333CPtj21EHYgcV6LDLWR6GFahBJa+BrtKHRrgtyJNTiqdC5UYssKesCsyRNSns8b5gA/Cy2c4fNgSFxiGSA/DqlARLBfL0ZcjjvAiWuWakeh7AiOcfPp1lv+kz+MCQ+wJbiHTw7AqkQLLiR1vJYTAHm9MMh1vCIHN9L+Pp88LJbDHEyN7rKEE1v6/4/m5UAJ7PDJTgU3Ir6YC6/5DqMC6sVKBdeNELRVYd1YqsO6sVGDdWXmtqQLrjlcF1o2VCqwbJ2qpwLqzUoF1Z6UC687Ka00VWHe8KrBurFRg3ThRSwXWnZUKrDsrFVh3Vl5rqsC641WBdWOlAuvGiVoqsO6sVGDdWanAurPyWlMF1h2vCqwbKxVYN07UUoF1Z6UC685KBdadldeaKrDueFVg3VipwLpxopYKrDsrFVh3Vl4FltlJuB+O+5H0Ec+Ae7q4d1c5xXOCDxMScE+csopnxeQN3FSvnOI5wYf7K5kFSVllZ8U98KyOpKyys+LeZpy3XMoJ2b7EJMzcXM4kBfqIZ8DN0MwHrJziOcGH6c6YwlJZxbNiOjgmClFO8Zzgw0xKTASirLKzYqIVgidllZ0Vs915E1hmZ2F+Wi3ZCWiKODsjW0NTxJZE/LOmiOP5RLdqijhKI/61pojj+US3ek0Rq8BGUce/VoGN5xPdqgIbpZH5tQpsZjapW1RgU4lkfq8Cm5lN6hYV2FQiBXqvAusOXgXWjZUKrBsnaqnAurNSgXVnpQLrzsprTRVYd7wqsG6sVGDdOFFLBdadlQqsOysVWHdWXmuqwLrjVYF1Y6UC68aJWiqw7qxUYN1ZqcC6s/JaUwXWHa8KrBsrFVg3TtRSgXVnpQLrzqpECCzrkZ5xxhnmpJNOKnqwYDEXWbFmaWphrUXW5WQN2KSUkALLbS4XXXRRESvLrUKFCrJ+IWvoJrmEEthvv/1W7iO1fOzzj370I1mQ/uDBg0nGFHQ9WNbAZZF5y8g+n3feebLua6gFrnP9QUIJ7Ny5c83FF198BKd69erJmqXpFklnrWEWWN+zZ0+up5b374UUWG6dKlOmzBG8sK0bbrhB5g2gjSa5lAiBZZH0IUOGyELX9t4svPd04sqPsXLlSlmAt7QKLFwwTFhNmjRJFnimg+SzTMySZMShBJZzptODEx0wC6yz0DXvsa+kl9ARLI4ZbN555x0zZswYWSgcm0q6w8bvGEpgZ8+ebYYOHSq3L8LK2lKmdsfi7LAsrQIb7atg99BDDxnmVzhe+qoSI7B0fum85Gh0W7FiRUOkuHz58iKBZfvpp58uHlL//v0lqiUyady4sTnllFPM1VdfLTfr++5QQ0awUWGYPHmywavG2fjmm2/M4MGDzbBhw8zNN98sxtywYUOzfft2w6QF99xzj8Gjpt7atWsN0QneZK9evaSDiu7X5+uQAmvP46uvvhKbWbFihTghTEzQuXNn4VW2bFkzb94806hRI3Hy2NazZ0/z6quvCis6BTj95Cc/EYfG7tP3c2iBtefDpClEXcz4g7jCAR6dOnUy2NO4ceOEG6LGttGjR4uN0XFiS7C66qqrpJ3affp+Dimw9FUff/zxUacUjW5vuukmma1s/fr1RQIb3d6hQwcR3c8//1zs8KyzzjKXX3652bhxo9jcUTvP4wchI9joYc+fP9/MnDlTMpOHDx8248ePFzuqWrWq2FTLli3NCy+8YGirbCNTyYQ0mzdvNldeeaXYVZs2bczu3buju/X6usQI7GmnnSYAaZyI4ssvvyyzs+zYscMcOnRIQNN4mQ5t8eLF0lnSUbdu3dpQh1mU2rZtKz8Q9RASfiimUOvRo0fGdHO+fp2kCOzAgQPFaBEJOj86RIwEgR0wYIDBo8aIe/fubZjRhQbO51Z488Ujbj9JEdj27duLkMCG869fv74I7Keffmq6du0qKSymwIQVnOhUu3XrJlzjzi9f25IisExrCQ/aHWyIRLAzRI2ZpkaOHCmsyA7g8MGKdnfvvfeK8OaLR9x+QgrshRdeaE488UTprxBFprNkOIs+gCCBB0zWrFkjTgYR7EsvvSTOB7zoq/r27SttkWgYISEDxdSYgwYNkv4sXbo57vyPZVtSBBZHDTuC21tvvWUQz+eee076bYYryFTSV5HdfPPNN8WuYLlq1SrRg2M551zrlhiBjaaIo+kDUgw2iv3+979vVq9eXSSwiAid36mnnmr69esnDR5DRVROPvlkaQA0hF/96lci2D6j2CQJLF4ijZwGm05gly5das4555yiTgKuOCF0UiFKUgSWiIxsCPaWTmCZr3XatGkGPjh+2NKPf/xjw5BGiJIkgcUJI6KlfaUTWOZsxYairK644gqzbNmyEKjEdom8fRfOPZoixnYQQ/opHjZKhcOMGTOKBPaDDz4Qh+Pcc881RK+IHO2N1/b6E+zrsssuE8Emy+SrJElgp0yZIs4JwxLpBJaME06MdWjg2qpVq2BRbIkR2HQpYoyyUqVKkurEQyRNRUO2ESxpUVJYeNUICRevPProo6Z58+biMRKZMEYSFWxfRpskgZ01a5akjDMJLJEGHjbc7DhSyHG2JAksDThOYElr4U1bTjyHYnW8CSypdNqfZWXFx1ebi+43ZASbLkVM2rJBgwaS6mSe3xEjRkhkigNH1EX2A7vZv3+/iOqZZ54pgQNOHs6dnZs7BLMkCezUqVOzCiwXtEbnxKdd4MyEKCVaYBEtvBXg7ty505QvX168OyuwdNQYO5EsERseNGMepLMYh0SASZNi+Ii1z7RLEgWWc2ZckTQLafQqVapIBoA0DOPZPMONsdk5c+YIrxBGmzSBpePDTurUqSNXg5ISZVyW1ZEYEytXrpyksbAzUsSkqEKUJAosbQrRYBgGm1q4cKFp2rSpsCLaZ8iGDhye2NXWrVtDoAoawaYTWETVjtvTF9StW1fYWIElRcy4In0ZDNkH0T3XjXDdBBdBMbE8/LA/fntfJYkCi4NCNE//jV3Rb3FdBH0UV2mTucSJguH06dMlOPDFJ7rfEi2wjL3aFHCzZs1EQIFOo2Z8B3EgAuECAVJ41MUTxEu0ES0XWyAweIY+SxIFljQTqT0uAqtVq5YwQTDgikiQroJb9+7dzYEDB3ziOWLfSRNYvGGieYSCC+O4QI4sCONlZEEYVyRFxUVOXPzj01GLgkqiwOKMwIULU7hVjI4QkaAjopPEAYEVwzJkSkJFGoWOYGlr9Em0KcSVNkWKmL7KRrC0PVLAtDmuF+GiMFLuCAsR7S9/+Uu5+JD26bMkUWC56IlM0QUXXGAqV64sfRVDWfyuXDeCPcGNC6G4diSUXZUIgaXR8khX+JyUE50Nr+nceNj6vLYpKfsZ+6E+nyOsIX6MQgmsZWLZpXtv+cHEigPPsGFblJvdj8/nQggs5xNlg02kvrc2wzMPazeZbMwnI/bNMZDmD10sG3v+6d5zbNgPz3Ckjq1n2521tRDHH0pgOSd7vqnnxedRJtSN1ue1bXNR++J1SGaFEljLw9qVbX/R95YfTKhPycQtlb+P9yVCYH2ACb3PQgls6PPMx/8rlMDm49hD7oNOphACG/Ic8/W/Qglsvo63kPsplMAW8pxz/d8qsLmSy/P3VGDdgarAurFSgXXjRC0VWHdWKrDurFRg3Vl5rakC645XBdaNlQqsGydqqcC6s1KBdWelAuvOymtNFVh3vCqwbqxUYN04UUsF1p2VCqw7KxVYd1Zea6rAuuNVgXVjpQLrxolaKrDurFRg3VmpwLqz8lpTBdYdrwqsGysVWDdO1FKBdWelAuvOyqvAcvM0c0Du3btXH1kYsIQcU7Upq+y2wgQO3DOprOJZMfsP0zUqp3hO8GECByZoUFbZWTHvL1MTKqvsrJgTH+ctl3JCti8hsBgtz/qIZ8APwUwsyimeE3yY05YOUVnFs2ImLhYbUE7xnODz7rvvyoQyyio7K279euONN9SuHHSNYMCbwDL/74cffphNh3W7MTKVHjNIaclOQFPE2RlRQ1PEbpyopSlid1aaInZn5TVFrALr/kPoGKw7KxVYN1YqsG6cqKUC685KBdadlQqsOyuvNVVg3fGqwLqxUoF140QtFVh3Viqw7qxUYN1Zea2pAuuOVwXWjZUKrBsnaqnAurNSgXVnpQLrzsprTRVYd7wqsG6sVGDdOFFLBdadlQqsOysVWHdWXmuqwLrjVYF1Y6UC68aJWiqw7qxUYN1ZlQiB5VLooUOHytqlrF/Kg8WIWZg4Xdm2bZvZsmWLLPGUbnshPgshsKw5yZqSlhHPcGO9RDrj1MISWNyfy3q4SSqhBJblsLZv334EL5ixEPiiRYtkXdwkcUk9llACu3PnTlnEOmpXDz30kOFzu2RY9Ni4PxebYj3TpJRQAsstLvfdd98RNsWar/v27Sta3jDKBIbcy8w61UkpoQSWW8yiNsVrFk5nSbp0hTkXnn766XSbCvZZiRDYiRMnmmrVqpkhQ4bIosUsXLx27Vrz1VdfpQW7cuVKqZdJgNN+yfOHIQT2888/NwMHDjQ1atQo4jRu3DhxNtIJLPxYoP6BBx7wfPbHtvtQAos4cL8t9oQjwkLOLBBOB8mC8zgsSS6hBPbJJ580zZo1M+3bty+yq/nz5xvuw00nsIgMNsXC60kpoQR29uzZ5o477jB9+/YtYrVixQpz4MCBtAKL88uC63v27EkKKhNKYIcPH24qVqxYxGnUqFHm8ccfTxsMAAdHZcSIEYnhxIGUGIHlx/jyyy+PghuNbmfOnCmGjEHTaSKw0e38eERthw4dMosXL5ZIZdKkSWJQ6TqKo/5ZMT4IJbBwSieY0eh28ODBZunSpcLKCizbN2zYIB4l+yACYaFj7t2dMWOGsKLz+Oyzz4pBwe2roQQ2ejQ4G9gMtkPh/Zo1a8ymTZskekM0bFTLtvXr10uEhsgxiQjeNyL93HPPRXfr9XVIgcUmOM/UEo1uJ0yYIDO7vfTSS0UCG92OrRHV0gZpl2PHjjWjR4+W17RJnyWkwMKKKD61RKPb6dOnS79Dm7MC++qrrxZFv4899phEtbRL7HDYsGFm/PjxMhtcOmc59X8V531IgYVVuhKNbufOnWu+/vrrIoGlX4put1Et7XLOnDnSFidPnix9V7p95/OzEiOwlSpVMj179hR4VhQBimjSUDHAJk2ayMxSiAedJbO29OvXT74zaNAg06VLF0lrEeES2eExITYIiO8UTSiBpaOHFc+c86xZs0RIEcbly5cLFz5v27atYUo0Oj0yBERy8GEb3yUSZhKRBQsWSKMfOXKkMF6yZElGDzNfhltogaUBk9IjYuO8abQIb/369cXB+PTTT03Xrl0NQsL0l5YNAos9hUqNhhRY2hZRLLZhRZGMCTP+kC4msujQoYOhM8QpwcmjE8R+evfuLXZF+0Ustm7daqZOnSr7od1if8xy5tPJDSmwt912m+ncubOwsqKIs48QcK6ISvPmzc3mzZsNQorAMtMUXOmvaIPYF8M3OHJ8h76KDN60adNkCkNs1FcJKbBly5YVTtjVgw8+KKKImMKFPhz7aNiwoQzl2AiWttmpUyfhRD8F608++UQcYLJPfI9hHtptpnRzvtiVGIGNpogRRDxEfoiDBw9KgwXo73//e4nCiE6BvGvXLoGPsZLyI7+PR92qVStz1113SRrn7rvvlpQqY3E+G3gogY2miDG2Rx99VBjBirlF8ZgxyAoVKsiUhAgskQfn36JFC9O/f39p1NSj82zQoIF0Bn369DGNGzcWbgiMz5IUge3YsaMhaqeRkiZNFViEAofjuuuuExHBzm688Ua5PsAnH7vvkAIbTRHTEZL+JaOEY4o4Ipg1a9YUZ4PhGwQWASGrhKNCxMbnTK3KNlLx2CGiXLt2bfPII49kHPKx51uc55ACG00Rc944rwQDHANZAPqmcuXKSUSG04vAwpA+DCZkSuirEF2cEpybXr16mZYtW5rbb79dsks+hSOkwNoUMQ6EDQbIZhAQ4KDhnF1zzTWS5bACSz9Gv929e3fpq2BFX0/7bNq0qfRh9O/Vq1cX4S2O3WT7bokRWLy+1BQxPwINeMqUKeJB4w1xkY8VWAyaHwkvqE2bNiKoRB0YLNEaXjfGjmAzBlISBBZOqSlizotono6RB15ylSpVigSW+rDFa0RgYUVUxpzAdevWlcYNJwSbxg9XnyUpAouXTOSaSWC5OAX7w/mDDw8yI6HGHkMKLHaVmiJGNHA8SMchEjhjdJRWYF988UXDBYeIL+2tW7du4nwQqSEWCArMrGD7HPMOKbCwSk0R8/9xdmHFOTPez3srsCxuwbAMbaxdu3YiLPRdOHk4IfRhfM8Kts80cUiBhVVqIULFJujXyQqVKVPmCIGlPdLPE0xgR0S/BAO1atUS0YUTdhhiSKtECyxRYZ06dcRTJi2HV8xFA1ZgERW8aC4w4Krj8uXLS4eJR403RIPmexg6Yu0z7RIqgk0nsBgkjgViSdqJTo+0CwJqU8R0CKSwmP6SDpEOgKgfVkSzNGjSoaTffY+XJU1gOXfGVuFH5wOHevXqyWcIMBkRbAzBQVzgG6IUWmDJZNCZkcIkM0QmhIcVWATCriKFeLRu3Vo6TASWYR0iOzJQTz31lOE39ykahRZY+iLshOEpXiOc9ElWYIlWyYjg6K9bt86QZkYgiGBx4uifiNywN/osn8FAoQWWbBrDXGQ7SP3iwDJmbyNYBJihQbInZD7IINHvE9XChwJjO3brsy2WaIEFNJ4xqTnGgUhhYrREWTR8DAWPj4iNVAMPDJkOAK+QK/1IfTKmm+kqv3z9OIUUWG5HQRRIAXO+eIak/BgPswKLB030ZTkh1Dt27BCjJqIlssVTxGh9RhrwTprA0pkhBnfeead0jIgI3rIdgyXStVEHY7CwDlEKLbBkPWwKmAiWNCbPiAZZERw2OkKiEGtX2BzOCtkjIlraJtEGF/iUZIFFIG0KmCiWyIu2RDAAMzpqxII2ZlmRCYEfIstn9FeM6dJWS7LARlPAOBk4tjgdVmDpq+FgOdGncb0I4mojWtvP+Q4GSoTAYmg0Sq4+jBYaJF4y3jCiyWsu3CGCwGOmPp0dPwaCy3Y+QyDsxQUh0sMccwiBPXz4sHDC84sWInMusqBzQ0RptESvcGLsh86NKJfvwQlefMb3MGZ7oVOI9DDHXQiB5fyxGbxnCmPWpD+j77ExOkNsh4tPiDawQaI0uIVMD3OMoQSW23Fof6m3ktDJY0OILLftcHETNsRnPFOfCMRmlMh+8BmsadM4eiHSw7AKFcFiu7BKHc7CycW+cOYRAjJr3NcJKxw16sOZi5iwJVKgfEabJjqjTYZID8MqVAQLJyLT1IJ9cP44XvRV9Ntw4mHrs14tnKhjP6PNYmuh0sMcd4kQ2NQf4Hh8H0Jgj0cu6Y65EAKb7jiS/lkogU06B5fjCyWwLseS9DqhBDbpHFyOTwXWhVKAOiqw7pBVYN1YqcC6caKWCqw7KxVYd1YqsO6svNZUgXXHqwLrxkoF1o0TtVRg3VmpwLqzUoF1Z+W1pgqsO14VWDdWKrBunKilAuvOSgXWnZUKrDsrrzVVYN3xqsC6sVKBdeNELRVYd1YqsO6sVGDdWXmtqQLrjlcF1o2VCqwbJ2qpwLqzUoF1Z6UC687Ka00VWHe8KrBurFRg3ThRSwXWnZUKrDsrrwLLbBnMwsI9bfqIZ8A9ldx7qpziOcGHmaO4Z1BZxbPi/klYKad4TvBhliTuJ1VW2Vlxjy73niqr7Ky4TxfnLZdyQrYvMRGBPpSB2oDagNqA2kBptoFsWplue1aBTfcl/UwJKAEloASUgBKIJ6ACG89HtyoBJaAElIASyImACmxO2PRLSkAJKAEloATiCajAxvPRrUpACSgBJaAEciKgApsTNv2SElACSkAJKIF4Aiqw8Xx0qxJQAkpACSiBnAiowOaETb+kBJSAElACSiCegApsPB/dqgSUgBJQAkogJwIqsDlh0y8pASWgBJSAEognoAIbz0e3KgEloASUgBLIiYAKbE7Y9EtKQAkoASWgBOIJqMDG89GtSkAJKAEloARyIqACmxM2/ZISUAJKQAkogXgCKrDxfHSrElACSkAJKIGcCKjA5oRNv6QElIASUAJKIJ6ACmw8H92qBJSAElACSiAnAiqwOWHTLykBJaAElIASiCegAhvPR7cqASWgBJSAEsiJgApsTtj0S0pACSgBJaAE4gmowMbz0a1KQAkoASWgBHIi8P8A2PjwmfgxwQwAAAAASUVORK5CYII=)"
      ]
    },
    {
      "cell_type": "markdown",
      "metadata": {
        "id": "DVfJhma8Rtb8"
      },
      "source": [
        "### String"
      ]
    },
    {
      "cell_type": "markdown",
      "metadata": {
        "id": "s0fLn2RzRxvU"
      },
      "source": [
        "String is a collection of characters. You can write string using `'` or `\"`."
      ]
    },
    {
      "cell_type": "code",
      "execution_count": null,
      "metadata": {
        "id": "dsyV_TSORLap",
        "colab": {
          "base_uri": "https://localhost:8080/"
        },
        "outputId": "080584b1-f1fd-4bcf-c68a-b23232d88296"
      },
      "outputs": [
        {
          "output_type": "stream",
          "name": "stdout",
          "text": [
            "Kurnia123\n",
            "Anwar\n"
          ]
        }
      ],
      "source": [
        "x = 'Kurnia123'\n",
        "y = \"Anwar\"\n",
        "print(x)\n",
        "print(y)"
      ]
    },
    {
      "cell_type": "markdown",
      "metadata": {
        "id": "AU7FvSv9Xb1l"
      },
      "source": [
        "If you want to create a multi-line string, you can use `'''` or `\"\"\"`."
      ]
    },
    {
      "cell_type": "code",
      "execution_count": null,
      "metadata": {
        "id": "6-i9MRjKXOKJ",
        "outputId": "35e54740-64ef-4871-a453-9f0595435eab",
        "colab": {
          "base_uri": "https://localhost:8080/"
        }
      },
      "outputs": [
        {
          "output_type": "stream",
          "name": "stdout",
          "text": [
            "\n",
            "    Python merupakan bahasa pemrograman yang sangat berguna untuk seorang Data Scientist\n",
            "    \n"
          ]
        }
      ],
      "source": [
        "text = '''\n",
        "    Python merupakan bahasa pemrograman yang sangat berguna untuk seorang Data Scientist\n",
        "    '''\n",
        "print(text)\n",
        "# '''\n",
        "\n",
        "# '''"
      ]
    },
    {
      "cell_type": "markdown",
      "metadata": {
        "id": "8EdU7H6IYFz8"
      },
      "source": [
        "### Basic Calculation with String"
      ]
    },
    {
      "cell_type": "code",
      "execution_count": null,
      "metadata": {
        "id": "Y5JxZXrbYJ1k",
        "outputId": "529cf67f-5d9c-4338-b247-8ef36f53ba4a",
        "colab": {
          "base_uri": "https://localhost:8080/"
        }
      },
      "outputs": [
        {
          "output_type": "stream",
          "name": "stdout",
          "text": [
            "Kurnia123Anwar\n"
          ]
        }
      ],
      "source": [
        "# Append 2 strings\n",
        "print(x+y)"
      ]
    },
    {
      "cell_type": "code",
      "execution_count": null,
      "metadata": {
        "id": "eLnFgW6oYWJk",
        "outputId": "1a77b4a3-9781-4c6d-f48b-084859f7df88",
        "colab": {
          "base_uri": "https://localhost:8080/"
        }
      },
      "outputs": [
        {
          "output_type": "stream",
          "name": "stdout",
          "text": [
            "Kurnia123 Anwar seorang data scientist dari Indonesia.\n"
          ]
        }
      ],
      "source": [
        "# Append >2 strings\n",
        "print(x + ' ' + y + ' seorang data scientist dari Indonesia.')"
      ]
    },
    {
      "cell_type": "code",
      "execution_count": null,
      "metadata": {
        "id": "UiUGG-yMYipr",
        "outputId": "ba23dd49-4ef4-4cf7-f0e9-2264654aff51",
        "colab": {
          "base_uri": "https://localhost:8080/"
        }
      },
      "outputs": [
        {
          "output_type": "stream",
          "name": "stdout",
          "text": [
            "Kurnia123Kurnia123Kurnia123Kurnia123\n"
          ]
        }
      ],
      "source": [
        "# Repeat string\n",
        "print(x * 4)"
      ]
    },
    {
      "cell_type": "code",
      "source": [
        "print(y*3)"
      ],
      "metadata": {
        "colab": {
          "base_uri": "https://localhost:8080/"
        },
        "id": "ksZY1XYGgKLp",
        "outputId": "b135acff-4d4c-461f-b062-82661151c518"
      },
      "execution_count": null,
      "outputs": [
        {
          "output_type": "stream",
          "name": "stdout",
          "text": [
            "AnwarAnwarAnwar\n"
          ]
        }
      ]
    },
    {
      "cell_type": "code",
      "source": [
        "print(x/y)\n",
        "#pembagi dan pengurangan tidak  bisa dilakukan oleh string"
      ],
      "metadata": {
        "colab": {
          "base_uri": "https://localhost:8080/",
          "height": 176
        },
        "id": "hwkC5t7WgPxm",
        "outputId": "c3ff4d77-0818-44c9-d15d-ada6cec21627"
      },
      "execution_count": null,
      "outputs": [
        {
          "output_type": "error",
          "ename": "TypeError",
          "evalue": "ignored",
          "traceback": [
            "\u001b[0;31m---------------------------------------------------------------------------\u001b[0m",
            "\u001b[0;31mTypeError\u001b[0m                                 Traceback (most recent call last)",
            "\u001b[0;32m<ipython-input-46-f8055c7c2d78>\u001b[0m in \u001b[0;36m<cell line: 1>\u001b[0;34m()\u001b[0m\n\u001b[0;32m----> 1\u001b[0;31m \u001b[0mprint\u001b[0m\u001b[0;34m(\u001b[0m\u001b[0mx\u001b[0m\u001b[0;34m/\u001b[0m\u001b[0my\u001b[0m\u001b[0;34m)\u001b[0m\u001b[0;34m\u001b[0m\u001b[0;34m\u001b[0m\u001b[0m\n\u001b[0m",
            "\u001b[0;31mTypeError\u001b[0m: unsupported operand type(s) for /: 'str' and 'str'"
          ]
        }
      ]
    },
    {
      "cell_type": "markdown",
      "metadata": {
        "id": "68m3HaklvGkM"
      },
      "source": [
        "Link untuk belajar slicing : https://www.w3schools.com/python/python_strings_slicing.asp"
      ]
    },
    {
      "cell_type": "markdown",
      "metadata": {
        "id": "IpfVJOAUvGkN"
      },
      "source": [
        "![slicing%20python.jpg](attachment:slicing%20python.jpg)"
      ]
    },
    {
      "cell_type": "code",
      "execution_count": null,
      "metadata": {
        "id": "1wilSEKjYql0",
        "outputId": "893ee219-9693-47b2-9d6a-c554572eeb32",
        "colab": {
          "base_uri": "https://localhost:8080/"
        }
      },
      "outputs": [
        {
          "output_type": "stream",
          "name": "stdout",
          "text": [
            "nia123\n",
            "ia123\n",
            "123\n",
            "3\n",
            "Kurni\n"
          ]
        }
      ],
      "source": [
        "# Range Slicing\n",
        "# Kurnia123\n",
        "# x[start:end]\n",
        "print(x[3:])\n",
        "print(x[4:])\n",
        "print(x[-3:])\n",
        "print(x[-1:])\n",
        "print(x[:5])"
      ]
    },
    {
      "cell_type": "code",
      "execution_count": null,
      "metadata": {
        "id": "g3UQSDFpZYgb",
        "outputId": "4109f04b-b9d2-41fb-caed-6c1382e1b233",
        "colab": {
          "base_uri": "https://localhost:8080/"
        }
      },
      "outputs": [
        {
          "output_type": "stream",
          "name": "stdout",
          "text": [
            "n2\n"
          ]
        }
      ],
      "source": [
        "# Index Slicing\n",
        "# x = Kurnia123\n",
        "print(x[3] + x[-2])"
      ]
    },
    {
      "cell_type": "code",
      "execution_count": null,
      "metadata": {
        "id": "cohiwsXNZqA0",
        "outputId": "d12bc1eb-55d2-4452-c037-998b4934354e",
        "colab": {
          "base_uri": "https://localhost:8080/"
        }
      },
      "outputs": [
        {
          "output_type": "stream",
          "name": "stdout",
          "text": [
            "KURNIA123\n"
          ]
        }
      ],
      "source": [
        "# String Capitalizing\n",
        "print(x.upper())"
      ]
    },
    {
      "cell_type": "code",
      "execution_count": null,
      "metadata": {
        "id": "AU3VNti9Zhi8",
        "outputId": "b5a77dee-b82b-4212-d0e6-59691fab1eac",
        "colab": {
          "base_uri": "https://localhost:8080/"
        }
      },
      "outputs": [
        {
          "output_type": "stream",
          "name": "stdout",
          "text": [
            "kurnia123\n"
          ]
        }
      ],
      "source": [
        "# String Lowering\n",
        "print(x.lower())"
      ]
    },
    {
      "cell_type": "markdown",
      "metadata": {
        "id": "DjM8m-QYbQwk"
      },
      "source": [
        "## Non-Primitive Data Structures"
      ]
    },
    {
      "cell_type": "markdown",
      "metadata": {
        "id": "eHg7CLsCeulU"
      },
      "source": [
        "### List"
      ]
    },
    {
      "cell_type": "markdown",
      "metadata": {
        "id": "xoLaN_Kee2kd"
      },
      "source": [
        "List is a data structure in python that can saves many different types of other items."
      ]
    },
    {
      "cell_type": "code",
      "execution_count": null,
      "metadata": {
        "id": "-eq8eI4bbbez",
        "outputId": "902ed82c-d4b5-4cd5-9c40-b8d235502c35",
        "colab": {
          "base_uri": "https://localhost:8080/"
        }
      },
      "outputs": [
        {
          "output_type": "stream",
          "name": "stdout",
          "text": [
            "['a', 'b', 'c', 'd', 'e', 'f', 'g']\n"
          ]
        }
      ],
      "source": [
        "lst_1 = ['a','b','c','d','e','f','g']\n",
        "print(lst_1)"
      ]
    },
    {
      "cell_type": "code",
      "execution_count": null,
      "metadata": {
        "id": "lFbVpqJ3fIb6",
        "outputId": "a5c2aaf2-9095-423a-85d9-dec60422ac64",
        "colab": {
          "base_uri": "https://localhost:8080/"
        }
      },
      "outputs": [
        {
          "output_type": "stream",
          "name": "stdout",
          "text": [
            "['b', 'a', 5, False, 8.7]\n"
          ]
        }
      ],
      "source": [
        "lst_2 = ['b','a', 5, False, 8.7]\n",
        "print(lst_2)"
      ]
    },
    {
      "cell_type": "markdown",
      "metadata": {
        "id": "QeJ0SKrPf3-c"
      },
      "source": [
        "### Basic Operations with List"
      ]
    },
    {
      "cell_type": "code",
      "execution_count": null,
      "metadata": {
        "id": "FUrAE4Opf6a8",
        "outputId": "cda8c2ce-e988-45b9-dc89-3d3fd96fc0ba",
        "colab": {
          "base_uri": "https://localhost:8080/"
        }
      },
      "outputs": [
        {
          "output_type": "stream",
          "name": "stdout",
          "text": [
            "['a', 'b', 'c', 'd', 'e', 'f', 'g', 'b', 'a', 5, False, 8.7]\n"
          ]
        }
      ],
      "source": [
        "# Appending 2 Lists\n",
        "print(lst_1 + lst_2)"
      ]
    },
    {
      "cell_type": "code",
      "execution_count": null,
      "metadata": {
        "id": "DixQoEHafMxo",
        "outputId": "1214a0f9-1bce-41c9-e9df-64cfdb0e3250",
        "colab": {
          "base_uri": "https://localhost:8080/"
        }
      },
      "outputs": [
        {
          "output_type": "stream",
          "name": "stdout",
          "text": [
            "['b', 'c', 'd']\n",
            "['e', 'f', 'g']\n",
            "[5, False, 8.7]\n"
          ]
        }
      ],
      "source": [
        "# Range Slicing\n",
        "print(lst_1[1:4])\n",
        "print(lst_1[-3:])\n",
        "print(lst_2[2:])"
      ]
    },
    {
      "cell_type": "code",
      "execution_count": null,
      "metadata": {
        "id": "6cxdFs0bgPFU",
        "outputId": "794dc7af-af16-452c-9dde-c0e48abc77bb",
        "colab": {
          "base_uri": "https://localhost:8080/"
        }
      },
      "outputs": [
        {
          "output_type": "stream",
          "name": "stdout",
          "text": [
            "d\n"
          ]
        }
      ],
      "source": [
        "# Accessing Specific Value\n",
        "print(lst_1[3])\n",
        "# lst_1[indeks_ke_n]"
      ]
    },
    {
      "cell_type": "code",
      "execution_count": null,
      "metadata": {
        "id": "7wau7GIAh4gf",
        "outputId": "65321168-5e29-4983-aa39-25e1ea90efed",
        "colab": {
          "base_uri": "https://localhost:8080/"
        }
      },
      "outputs": [
        {
          "output_type": "stream",
          "name": "stdout",
          "text": [
            "['a', 'b', 'c', 'z', 'e', 'f', 'g']\n"
          ]
        }
      ],
      "source": [
        "# Replacing Specific Value\n",
        "lst_1[3] = 'z'\n",
        "print(lst_1)"
      ]
    },
    {
      "cell_type": "code",
      "execution_count": null,
      "metadata": {
        "id": "mOKzzbDth_xT",
        "outputId": "080585e4-18e6-4492-f602-25f467bec32d",
        "colab": {
          "base_uri": "https://localhost:8080/"
        }
      },
      "outputs": [
        {
          "output_type": "stream",
          "name": "stdout",
          "text": [
            "['a', 'b', 'c', 'd', 'e']\n"
          ]
        }
      ],
      "source": [
        "# Replacing Ranges of Values\n",
        "lst_1[3:] = ['d','e']\n",
        "print(lst_1)"
      ]
    },
    {
      "cell_type": "code",
      "execution_count": null,
      "metadata": {
        "id": "BVJBHFJDiPb8",
        "outputId": "c12e945c-bb13-4d63-c592-0a7c1c483c25",
        "colab": {
          "base_uri": "https://localhost:8080/"
        }
      },
      "outputs": [
        {
          "output_type": "stream",
          "name": "stdout",
          "text": [
            "['a', 'b', 'c', 'd', 'e', 'f', 'g', 'g']\n"
          ]
        }
      ],
      "source": [
        "# Appending New Value at the end of the list\n",
        "lst_1.append('g')\n",
        "print(lst_1)"
      ]
    },
    {
      "cell_type": "code",
      "source": [
        "print(lst_2)"
      ],
      "metadata": {
        "colab": {
          "base_uri": "https://localhost:8080/"
        },
        "id": "n0JD8xFJifoq",
        "outputId": "3432780a-7fcf-46b7-c8b3-647ffc2bd216"
      },
      "execution_count": null,
      "outputs": [
        {
          "output_type": "stream",
          "name": "stdout",
          "text": [
            "['b', 'a', 5, False, 8.7]\n"
          ]
        }
      ]
    },
    {
      "cell_type": "code",
      "execution_count": null,
      "metadata": {
        "id": "94YBHcyQjk4M",
        "outputId": "f7889032-7cb0-4c0b-a9b4-1ccc351d9adb",
        "colab": {
          "base_uri": "https://localhost:8080/"
        }
      },
      "outputs": [
        {
          "output_type": "stream",
          "name": "stdout",
          "text": [
            "['g', 'e', 'd', 'c', 'b', 'a']\n"
          ]
        }
      ],
      "source": [
        "# Reverse the List Order\n",
        "print(lst_1[::-1])"
      ]
    },
    {
      "cell_type": "code",
      "execution_count": null,
      "metadata": {
        "id": "94ME84MCz754",
        "outputId": "c85856b3-25c8-4f44-8586-2af8db765fc6",
        "colab": {
          "base_uri": "https://localhost:8080/"
        }
      },
      "outputs": [
        {
          "output_type": "execute_result",
          "data": {
            "text/plain": [
              "['c', 'd', 'e', 'f', 'g', 'g']"
            ]
          },
          "metadata": {},
          "execution_count": 12
        }
      ],
      "source": [
        "# Filtering Values that contained in lst_1 but not in lst_2\n",
        "[x for x in lst_1 if x not in lst_2]"
      ]
    },
    {
      "cell_type": "code",
      "execution_count": null,
      "metadata": {
        "id": "32XK8sEQz20o",
        "outputId": "27fae71a-3255-4678-f82b-0d6176ee38cf",
        "colab": {
          "base_uri": "https://localhost:8080/"
        }
      },
      "outputs": [
        {
          "output_type": "execute_result",
          "data": {
            "text/plain": [
              "True"
            ]
          },
          "metadata": {},
          "execution_count": 60
        }
      ],
      "source": [
        "# Checking if a value is contained in the list\n",
        "'a' in lst_1"
      ]
    },
    {
      "cell_type": "code",
      "execution_count": null,
      "metadata": {
        "id": "VKwzzztjxnHL",
        "outputId": "9eaedf7b-040d-4012-b6d7-eb012b5d2e88",
        "colab": {
          "base_uri": "https://localhost:8080/"
        }
      },
      "outputs": [
        {
          "output_type": "stream",
          "name": "stdout",
          "text": [
            "abcdeg\n",
            "a,b,c,d,e,g\n"
          ]
        }
      ],
      "source": [
        "# Join list elements into string\n",
        "print(''.join(lst_1))\n",
        "print(','.join(lst_1))"
      ]
    },
    {
      "cell_type": "markdown",
      "metadata": {
        "id": "XA6Z-rKDxwGE"
      },
      "source": [
        "This operations actually shows us that **a string is actually a list of character**."
      ]
    },
    {
      "cell_type": "markdown",
      "metadata": {
        "id": "1GxSKZtpj_hb"
      },
      "source": [
        "### Arrays"
      ]
    },
    {
      "cell_type": "markdown",
      "metadata": {
        "id": "JzG4QSgIrLTl"
      },
      "source": [
        "The most popular implementation of array in Python can be found in the **Numpy** package.\n",
        "In programming, an \"array\" is a data structure used to store a collection of values or elements, typically of the same data type. These elements are stored in a specific order and are accessed based on numeric indices. The indices are used to identify the position or location of each element within the array.\n",
        "\n",
        "Arrays have a fixed size defined at the time of creation. This means that the number of elements in the array will always remain the same, and new elements cannot be added to or removed from the array without altering the array's size."
      ]
    },
    {
      "cell_type": "code",
      "execution_count": null,
      "metadata": {
        "id": "bDM_DEkZkAZH"
      },
      "outputs": [],
      "source": [
        "import numpy as np"
      ]
    },
    {
      "cell_type": "code",
      "execution_count": null,
      "metadata": {
        "id": "apNCEBAbrUQ5",
        "outputId": "8a66a284-ef89-461d-e522-c7f9446dd17c",
        "colab": {
          "base_uri": "https://localhost:8080/"
        }
      },
      "outputs": [
        {
          "output_type": "stream",
          "name": "stdout",
          "text": [
            "[1 2 3 4 5 6]\n"
          ]
        }
      ],
      "source": [
        "arr_1 = np.array([1,2,3,4,5,6])\n",
        "print(arr_1)"
      ]
    },
    {
      "cell_type": "markdown",
      "metadata": {
        "id": "myXheBGAsF9U"
      },
      "source": [
        "What if we force it to contains different types of elements?"
      ]
    },
    {
      "cell_type": "code",
      "execution_count": null,
      "metadata": {
        "id": "cYYaquCfsM2c",
        "outputId": "d3fe1a34-af15-4e4a-ff85-0285df50d12b",
        "colab": {
          "base_uri": "https://localhost:8080/"
        }
      },
      "outputs": [
        {
          "output_type": "stream",
          "name": "stdout",
          "text": [
            "['a' 'b' '5' '3']\n"
          ]
        }
      ],
      "source": [
        "arr_mixed_1 = np.array(['a','b',5,3])\n",
        "print(arr_mixed_1)"
      ]
    },
    {
      "cell_type": "markdown",
      "metadata": {
        "id": "_lqFsIbPsu8s"
      },
      "source": [
        "It turns out, all of the elements in the array is converted into string."
      ]
    },
    {
      "cell_type": "code",
      "execution_count": null,
      "metadata": {
        "id": "huzo5bZUtifs",
        "outputId": "dea1c973-9fce-46a4-bba2-a0254d267f65",
        "colab": {
          "base_uri": "https://localhost:8080/"
        }
      },
      "outputs": [
        {
          "output_type": "stream",
          "name": "stdout",
          "text": [
            "[1 4 5 7 1]\n"
          ]
        }
      ],
      "source": [
        "arr_mixed_2 = np.array([1,4,5,7,True])\n",
        "print(arr_mixed_2)"
      ]
    },
    {
      "cell_type": "code",
      "execution_count": null,
      "metadata": {
        "id": "IM8BBX-GtxCE",
        "outputId": "ad2cf77e-8c90-4301-9855-48009928bb00",
        "colab": {
          "base_uri": "https://localhost:8080/"
        }
      },
      "outputs": [
        {
          "output_type": "stream",
          "name": "stdout",
          "text": [
            "[3.5 7.  0. ]\n"
          ]
        }
      ],
      "source": [
        "arr_mixed_2 = np.array([3.5,7,False])\n",
        "print(arr_mixed_2)"
      ]
    },
    {
      "cell_type": "markdown",
      "metadata": {
        "id": "X4c5gckKt28E"
      },
      "source": [
        "There's also a function from Numpy to generate a specific type of array."
      ]
    },
    {
      "cell_type": "code",
      "execution_count": null,
      "metadata": {
        "id": "q0DbXU76uCKl",
        "outputId": "e953fcf6-ddc3-46c1-8ddb-5d0c4260b44a",
        "colab": {
          "base_uri": "https://localhost:8080/"
        }
      },
      "outputs": [
        {
          "output_type": "stream",
          "name": "stdout",
          "text": [
            "[1. 1. 1. 1. 1. 1. 1. 1. 1. 1.]\n"
          ]
        }
      ],
      "source": [
        "arr_ones = np.ones(10)\n",
        "print(arr_ones)"
      ]
    },
    {
      "cell_type": "code",
      "execution_count": null,
      "metadata": {
        "id": "BUDLt7EZuFsV",
        "outputId": "4cfe28d6-b835-4358-d9f9-22dc6c6a6427",
        "colab": {
          "base_uri": "https://localhost:8080/"
        }
      },
      "outputs": [
        {
          "output_type": "stream",
          "name": "stdout",
          "text": [
            "[0. 0. 0.]\n"
          ]
        }
      ],
      "source": [
        "arr_zeros = np.zeros(3)\n",
        "print(arr_zeros)"
      ]
    },
    {
      "cell_type": "markdown",
      "metadata": {
        "id": "utvxetgTuQ2F"
      },
      "source": [
        "### Basic Operations with Numpy Array"
      ]
    },
    {
      "cell_type": "markdown",
      "metadata": {
        "id": "aL7l5E5xvKv0"
      },
      "source": [
        "Unlike Lists, array performs the operation in the element-wise fashion. It means that the operation is performed in each of the corresponding elements index."
      ]
    },
    {
      "cell_type": "code",
      "execution_count": null,
      "metadata": {
        "id": "j9t8mPOLulG1",
        "outputId": "34860834-523d-40ff-ff30-371ce8a8c17f",
        "colab": {
          "base_uri": "https://localhost:8080/"
        }
      },
      "outputs": [
        {
          "output_type": "stream",
          "name": "stdout",
          "text": [
            "[1. 1. 1. 1. 1.]\n",
            "[3. 3. 3. 3. 3.]\n"
          ]
        }
      ],
      "source": [
        "arr_1 = np.ones(5)\n",
        "print(arr_1)\n",
        "\n",
        "arr_2 = 3 * np.ones(5)\n",
        "print(arr_2)"
      ]
    },
    {
      "cell_type": "code",
      "execution_count": null,
      "metadata": {
        "id": "14BvxMizvirs",
        "outputId": "52bab0d0-a520-4de5-880b-77bfc76db1d8",
        "colab": {
          "base_uri": "https://localhost:8080/"
        }
      },
      "outputs": [
        {
          "output_type": "stream",
          "name": "stdout",
          "text": [
            "[-2. -2. -2. -2. -2.]\n"
          ]
        }
      ],
      "source": [
        "# Substraction\n",
        "print(arr_1 - arr_2)"
      ]
    },
    {
      "cell_type": "code",
      "execution_count": null,
      "metadata": {
        "id": "QtqqK4rbvgPs",
        "outputId": "27d7c104-af5a-4d10-9bd2-5e39001dbb32",
        "colab": {
          "base_uri": "https://localhost:8080/"
        }
      },
      "outputs": [
        {
          "output_type": "stream",
          "name": "stdout",
          "text": [
            "[4. 4. 4. 4. 4.]\n"
          ]
        }
      ],
      "source": [
        "# Addition\n",
        "print(arr_1 + arr_2)"
      ]
    },
    {
      "cell_type": "code",
      "execution_count": null,
      "metadata": {
        "id": "BwOJPyniv-2x",
        "outputId": "ed5a6f8c-3dfe-4998-dc8e-41d21b6f3e0d",
        "colab": {
          "base_uri": "https://localhost:8080/"
        }
      },
      "outputs": [
        {
          "output_type": "stream",
          "name": "stdout",
          "text": [
            "[3. 3. 3. 3. 3.]\n"
          ]
        }
      ],
      "source": [
        "# Multplication\n",
        "print(arr_1 * arr_2)"
      ]
    },
    {
      "cell_type": "code",
      "execution_count": null,
      "metadata": {
        "id": "j-7DWZEhvkuM",
        "outputId": "47618652-2f7e-4bba-8907-832e80cb09c5",
        "colab": {
          "base_uri": "https://localhost:8080/"
        }
      },
      "outputs": [
        {
          "output_type": "stream",
          "name": "stdout",
          "text": [
            "[0.33333333 0.33333333 0.33333333 0.33333333 0.33333333]\n"
          ]
        }
      ],
      "source": [
        "# Division\n",
        "print(arr_1 / arr_2)"
      ]
    },
    {
      "cell_type": "code",
      "execution_count": null,
      "metadata": {
        "id": "GOVJ17KYwQHM",
        "outputId": "b8b91abd-b3cb-407a-b388-de6626d8c653",
        "colab": {
          "base_uri": "https://localhost:8080/"
        }
      },
      "outputs": [
        {
          "output_type": "stream",
          "name": "stdout",
          "text": [
            "[0. 0. 0. 0. 0.]\n"
          ]
        }
      ],
      "source": [
        "# Floor Divison\n",
        "print(arr_1 // arr_2)"
      ]
    },
    {
      "cell_type": "code",
      "execution_count": null,
      "metadata": {
        "id": "VRpzX_QYwC2X",
        "outputId": "ad7ec377-9fe1-4b85-a3f6-1262fb9911bf",
        "colab": {
          "base_uri": "https://localhost:8080/"
        }
      },
      "outputs": [
        {
          "output_type": "stream",
          "name": "stdout",
          "text": [
            "[1. 1. 1. 1. 1.]\n"
          ]
        }
      ],
      "source": [
        "# Modulo #ini kenapa ya ??\n",
        "print(arr_1 % arr_2)"
      ]
    },
    {
      "cell_type": "code",
      "execution_count": null,
      "metadata": {
        "id": "nL-uCadjwVMs",
        "outputId": "04d1d25a-1e0b-4e98-de4b-3fa962bcafb4",
        "colab": {
          "base_uri": "https://localhost:8080/"
        }
      },
      "outputs": [
        {
          "output_type": "stream",
          "name": "stdout",
          "text": [
            "[27. 27. 27. 27. 27.]\n",
            "[1.73205081 1.73205081 1.73205081 1.73205081 1.73205081]\n"
          ]
        }
      ],
      "source": [
        "# Power / Exponentiation\n",
        "print(arr_2 ** arr_2)\n",
        "print(arr_2 ** 0.5) # square root"
      ]
    },
    {
      "cell_type": "code",
      "execution_count": null,
      "metadata": {
        "id": "DSZC7HCzwxKs"
      },
      "outputs": [],
      "source": [
        "arr_3 = np.array([2,25,7,5,0.5,2.5,9,7,40])\n",
        "# 0.5 , 2, 2.5 , 5 , 7 , 7, 9, 25, 40"
      ]
    },
    {
      "cell_type": "code",
      "execution_count": null,
      "metadata": {
        "id": "ToXinwzuwuoW",
        "outputId": "51500004-b5b2-48e5-fb6c-2a5bfd47e8d5",
        "colab": {
          "base_uri": "https://localhost:8080/"
        }
      },
      "outputs": [
        {
          "output_type": "stream",
          "name": "stdout",
          "text": [
            "7.0\n"
          ]
        }
      ],
      "source": [
        "# Median over array\n",
        "median_arr_3 = np.median(arr_3)\n",
        "print(median_arr_3)"
      ]
    },
    {
      "cell_type": "code",
      "execution_count": null,
      "metadata": {
        "id": "lv6FYptzwiPU",
        "outputId": "3607e390-fed5-46b1-b46e-b0c743a542e9",
        "colab": {
          "base_uri": "https://localhost:8080/"
        }
      },
      "outputs": [
        {
          "output_type": "stream",
          "name": "stdout",
          "text": [
            "10.88888888888889\n"
          ]
        }
      ],
      "source": [
        "# Average over array\n",
        "avg_arr_3 = np.mean(arr_3)\n",
        "print(avg_arr_3)"
      ]
    },
    {
      "cell_type": "code",
      "execution_count": null,
      "metadata": {
        "id": "G0H9XaFnxXxM",
        "outputId": "fc7fd754-91a6-4143-c777-6e7abddfacfe",
        "colab": {
          "base_uri": "https://localhost:8080/"
        }
      },
      "outputs": [
        {
          "output_type": "stream",
          "name": "stdout",
          "text": [
            "40.0\n"
          ]
        }
      ],
      "source": [
        "# Maximum over array\n",
        "maximum_arr_3 = np.max(arr_3)\n",
        "print(maximum_arr_3)"
      ]
    },
    {
      "cell_type": "code",
      "execution_count": null,
      "metadata": {
        "id": "4QuHyY7Nw8Wl",
        "outputId": "b042419c-8752-4b8d-893a-fa4bdc1f108a",
        "colab": {
          "base_uri": "https://localhost:8080/"
        }
      },
      "outputs": [
        {
          "output_type": "stream",
          "name": "stdout",
          "text": [
            "0.5\n"
          ]
        }
      ],
      "source": [
        "# Minimum over array\n",
        "minimum_arr_3 = np.min(arr_3)\n",
        "print(minimum_arr_3)"
      ]
    },
    {
      "cell_type": "markdown",
      "metadata": {
        "id": "RRDaLw7lyhe0"
      },
      "source": [
        "### Matrix"
      ]
    },
    {
      "cell_type": "markdown",
      "metadata": {
        "id": "hlXFW2fGzJN8"
      },
      "source": [
        "A matrix is basically just an array of arrays. This is a 2 dimensional arrays."
      ]
    },
    {
      "cell_type": "code",
      "execution_count": null,
      "metadata": {
        "id": "_Dz4UiXmxaaX",
        "outputId": "c36d7553-dbe1-412f-8cf8-231f078dd31c",
        "colab": {
          "base_uri": "https://localhost:8080/"
        }
      },
      "outputs": [
        {
          "output_type": "stream",
          "name": "stdout",
          "text": [
            "[[5 6]\n",
            " [7 8]]\n"
          ]
        }
      ],
      "source": [
        "mat_1 = np.array([[5,6],[7,8]])\n",
        "print(mat_1)"
      ]
    },
    {
      "cell_type": "code",
      "execution_count": null,
      "metadata": {
        "id": "MG8f8bKazZzm",
        "outputId": "0dd42961-8083-4121-e902-f9d15e51ffa5",
        "colab": {
          "base_uri": "https://localhost:8080/"
        }
      },
      "outputs": [
        {
          "output_type": "stream",
          "name": "stdout",
          "text": [
            "(2, 2)\n"
          ]
        }
      ],
      "source": [
        "print(mat_1.shape)"
      ]
    },
    {
      "cell_type": "code",
      "execution_count": null,
      "metadata": {
        "id": "iQPxQtMYmkZg",
        "outputId": "f6c3058d-6e8d-465d-998a-649d5fced24a",
        "colab": {
          "base_uri": "https://localhost:8080/"
        }
      },
      "outputs": [
        {
          "output_type": "stream",
          "name": "stdout",
          "text": [
            "[[ 9 10]\n",
            " [11 12]]\n"
          ]
        }
      ],
      "source": [
        "mat_2 = np.array([[9,10],[11,12]])\n",
        "print(mat_2)"
      ]
    },
    {
      "cell_type": "code",
      "execution_count": null,
      "metadata": {
        "id": "C2kw9BQom0vB",
        "outputId": "68a4f172-3524-4e72-f082-9492fb64c7af",
        "colab": {
          "base_uri": "https://localhost:8080/"
        }
      },
      "outputs": [
        {
          "output_type": "execute_result",
          "data": {
            "text/plain": [
              "array([[ 5,  6,  9, 10],\n",
              "       [ 7,  8, 11, 12]])"
            ]
          },
          "metadata": {},
          "execution_count": 94
        }
      ],
      "source": [
        "# Stack 2 Matrices Horizontally\n",
        "np.hstack([mat_1,mat_2])"
      ]
    },
    {
      "cell_type": "code",
      "execution_count": null,
      "metadata": {
        "id": "pzQD_XHqmpHe",
        "outputId": "1e97e8bd-66e9-4630-bdca-64afc23c7052",
        "colab": {
          "base_uri": "https://localhost:8080/"
        }
      },
      "outputs": [
        {
          "output_type": "execute_result",
          "data": {
            "text/plain": [
              "array([[ 5,  6],\n",
              "       [ 7,  8],\n",
              "       [ 9, 10],\n",
              "       [11, 12]])"
            ]
          },
          "metadata": {},
          "execution_count": 95
        }
      ],
      "source": [
        "# Stack 2 Matrices Vertically\n",
        "np.vstack([mat_1,mat_2])"
      ]
    },
    {
      "cell_type": "markdown",
      "metadata": {
        "id": "NCoYjWbanKFe"
      },
      "source": [
        "The basic operations for matrix can be performed similarly to the operations in arrays."
      ]
    },
    {
      "cell_type": "code",
      "execution_count": null,
      "metadata": {
        "id": "cM8gkKGmnCsn",
        "outputId": "e45dc089-d0b7-447e-d32b-c07a180d1a62",
        "colab": {
          "base_uri": "https://localhost:8080/"
        }
      },
      "outputs": [
        {
          "output_type": "stream",
          "name": "stdout",
          "text": [
            "[[14 16]\n",
            " [18 20]]\n"
          ]
        }
      ],
      "source": [
        "# Addition of 2 Matrices\n",
        "print(mat_1+mat_2)"
      ]
    },
    {
      "cell_type": "code",
      "execution_count": null,
      "metadata": {
        "id": "xvr7pt47vGlN",
        "outputId": "01da7385-9cf3-4bc5-8762-67b844b94a8b",
        "colab": {
          "base_uri": "https://localhost:8080/"
        }
      },
      "outputs": [
        {
          "output_type": "stream",
          "name": "stdout",
          "text": [
            "[[-4 -4]\n",
            " [-4 -4]]\n"
          ]
        }
      ],
      "source": [
        "# Substraction of 2 Matrices\n",
        "print(mat_1 - mat_2)"
      ]
    },
    {
      "cell_type": "markdown",
      "metadata": {
        "id": "B3292pIs03rr"
      },
      "source": [
        "### Tuple"
      ]
    },
    {
      "cell_type": "markdown",
      "metadata": {
        "id": "ONBRqP5v1wSW"
      },
      "source": [
        "This characteristic of tuple is useful when you want to make sure that the information you have stored and will be transferred to other people can only be viewed and accessed, but the file can not be edited."
      ]
    },
    {
      "cell_type": "markdown",
      "metadata": {
        "id": "W4ajkaTV1OWN"
      },
      "source": [
        "Tuple is another data structures that is similar with list. Once it is defined, you can not delete, add or edit any values inside it."
      ]
    },
    {
      "cell_type": "code",
      "execution_count": null,
      "metadata": {
        "id": "iUlpMlZY04aI",
        "outputId": "6d8fb382-ad45-4fbb-beb9-6ae7c9cbea27",
        "colab": {
          "base_uri": "https://localhost:8080/"
        }
      },
      "outputs": [
        {
          "output_type": "stream",
          "name": "stdout",
          "text": [
            "(3, 2, 1)\n"
          ]
        }
      ],
      "source": [
        "tuple_1 = (3,2,1)\n",
        "print(tuple_1)"
      ]
    },
    {
      "cell_type": "code",
      "execution_count": null,
      "metadata": {
        "id": "NeRuwRxY2LkF",
        "outputId": "05be99d7-f831-4e9a-93d2-5cc45fa42222",
        "colab": {
          "base_uri": "https://localhost:8080/"
        }
      },
      "outputs": [
        {
          "output_type": "stream",
          "name": "stdout",
          "text": [
            "(7, 8, 9)\n"
          ]
        }
      ],
      "source": [
        "tuple_2 = 7,8,9\n",
        "print(tuple_2)"
      ]
    },
    {
      "cell_type": "code",
      "execution_count": null,
      "metadata": {
        "id": "iZoDHNkd2eY0",
        "outputId": "1694acc3-bc30-45b4-94e9-5d07bf32ffbb",
        "colab": {
          "base_uri": "https://localhost:8080/"
        }
      },
      "outputs": [
        {
          "output_type": "stream",
          "name": "stdout",
          "text": [
            "2\n"
          ]
        }
      ],
      "source": [
        "print(tuple_1[1])"
      ]
    },
    {
      "cell_type": "code",
      "execution_count": null,
      "metadata": {
        "id": "DRnW0TCM2SbE",
        "outputId": "a0c68bf8-a9ee-4e30-fb4f-a94346496625",
        "colab": {
          "base_uri": "https://localhost:8080/"
        }
      },
      "outputs": [
        {
          "output_type": "stream",
          "name": "stdout",
          "text": [
            "(3, 2, 1, 7, 8, 9)\n"
          ]
        }
      ],
      "source": [
        "print(tuple_1 + tuple_2)"
      ]
    },
    {
      "cell_type": "code",
      "source": [
        "print(tuple_1 %  tuple_2)"
      ],
      "metadata": {
        "colab": {
          "base_uri": "https://localhost:8080/",
          "height": 176
        },
        "id": "KMay9Hoyl8Og",
        "outputId": "9e9048b3-d7ae-4fb9-cbd2-377ad0f535be"
      },
      "execution_count": null,
      "outputs": [
        {
          "output_type": "error",
          "ename": "TypeError",
          "evalue": "ignored",
          "traceback": [
            "\u001b[0;31m---------------------------------------------------------------------------\u001b[0m",
            "\u001b[0;31mTypeError\u001b[0m                                 Traceback (most recent call last)",
            "\u001b[0;32m<ipython-input-106-b294754274d5>\u001b[0m in \u001b[0;36m<cell line: 1>\u001b[0;34m()\u001b[0m\n\u001b[0;32m----> 1\u001b[0;31m \u001b[0mprint\u001b[0m\u001b[0;34m(\u001b[0m\u001b[0mtuple_1\u001b[0m \u001b[0;34m%\u001b[0m  \u001b[0mtuple_2\u001b[0m\u001b[0;34m)\u001b[0m\u001b[0;34m\u001b[0m\u001b[0;34m\u001b[0m\u001b[0m\n\u001b[0m",
            "\u001b[0;31mTypeError\u001b[0m: unsupported operand type(s) for %: 'tuple' and 'tuple'"
          ]
        }
      ]
    },
    {
      "cell_type": "code",
      "execution_count": null,
      "metadata": {
        "id": "cmPCfmGQ2WFk",
        "outputId": "e2abbadd-5a82-4f6e-89ee-ebcf4e3604ea",
        "colab": {
          "base_uri": "https://localhost:8080/",
          "height": 176
        }
      },
      "outputs": [
        {
          "output_type": "error",
          "ename": "TypeError",
          "evalue": "ignored",
          "traceback": [
            "\u001b[0;31m---------------------------------------------------------------------------\u001b[0m",
            "\u001b[0;31mTypeError\u001b[0m                                 Traceback (most recent call last)",
            "\u001b[0;32m<ipython-input-103-a49ff300da69>\u001b[0m in \u001b[0;36m<cell line: 1>\u001b[0;34m()\u001b[0m\n\u001b[0;32m----> 1\u001b[0;31m \u001b[0mtuple_1\u001b[0m\u001b[0;34m[\u001b[0m\u001b[0;36m0\u001b[0m\u001b[0;34m]\u001b[0m \u001b[0;34m=\u001b[0m \u001b[0;36m2\u001b[0m\u001b[0;34m\u001b[0m\u001b[0;34m\u001b[0m\u001b[0m\n\u001b[0m",
            "\u001b[0;31mTypeError\u001b[0m: 'tuple' object does not support item assignment"
          ]
        }
      ],
      "source": [
        "tuple_1[0] = 2"
      ]
    },
    {
      "cell_type": "markdown",
      "metadata": {
        "id": "ibHrQlLd02HV"
      },
      "source": [
        "### Set"
      ]
    },
    {
      "cell_type": "markdown",
      "metadata": {
        "id": "K4Lp5xwE2qFT"
      },
      "source": [
        "Set is another list-alike data structure. However, set contains only unique values and it is not ordered."
      ]
    },
    {
      "cell_type": "code",
      "execution_count": null,
      "metadata": {
        "id": "aJUjHj7b02_l",
        "outputId": "56adcfc4-162d-4a82-cd3a-2cc1699ebd56",
        "colab": {
          "base_uri": "https://localhost:8080/"
        }
      },
      "outputs": [
        {
          "output_type": "stream",
          "name": "stdout",
          "text": [
            "{1, 2, 3, 4, 5, 6, 7, 8, 9}\n"
          ]
        }
      ],
      "source": [
        "set_1 = {1,2,3,4,4,4,4,5,5,5,6,7,8,9,9,9}\n",
        "print(set_1)"
      ]
    },
    {
      "cell_type": "code",
      "execution_count": null,
      "metadata": {
        "id": "7j_GMDRh3xoe",
        "outputId": "b42217db-2343-40b1-9e8c-68e83084f970",
        "colab": {
          "base_uri": "https://localhost:8080/"
        }
      },
      "outputs": [
        {
          "output_type": "stream",
          "name": "stdout",
          "text": [
            "{3, 4, 5, 6, 7}\n"
          ]
        }
      ],
      "source": [
        "set_2 = set([4,4,4,4,3,3,3,5,5,6,6,7])\n",
        "print(set_2)"
      ]
    },
    {
      "cell_type": "markdown",
      "metadata": {
        "id": "sRuFHw6o34M0"
      },
      "source": [
        "### Basic Operations with Set"
      ]
    },
    {
      "cell_type": "code",
      "execution_count": null,
      "metadata": {
        "id": "yYqWSrqQ36x1",
        "outputId": "68c7a1d6-a219-4d48-e59f-a31ee7b6e778",
        "colab": {
          "base_uri": "https://localhost:8080/"
        }
      },
      "outputs": [
        {
          "output_type": "stream",
          "name": "stdout",
          "text": [
            "{8, 1, 2, 9}\n"
          ]
        }
      ],
      "source": [
        "# All the elements in set_1 but not in set_2\n",
        "print(set_1 - set_2)"
      ]
    },
    {
      "cell_type": "code",
      "execution_count": null,
      "metadata": {
        "id": "pjUSaXPP4KIM",
        "outputId": "1288faa7-e464-4e98-f03f-a6813a2eade3",
        "colab": {
          "base_uri": "https://localhost:8080/"
        }
      },
      "outputs": [
        {
          "output_type": "stream",
          "name": "stdout",
          "text": [
            "{3, 4, 5, 6, 7}\n"
          ]
        }
      ],
      "source": [
        "# Elements in both set_1 and set_2 (INTERSECTION)\n",
        "print(set_1 & set_2)"
      ]
    },
    {
      "cell_type": "code",
      "execution_count": null,
      "metadata": {
        "id": "UvgvlBC44E79",
        "outputId": "8b9fba6c-74b3-4e1b-d493-0ca8243b9756",
        "colab": {
          "base_uri": "https://localhost:8080/"
        }
      },
      "outputs": [
        {
          "output_type": "stream",
          "name": "stdout",
          "text": [
            "{1, 2, 3, 4, 5, 6, 7, 8, 9}\n"
          ]
        }
      ],
      "source": [
        "# Elements in set_1 or set_2 or both (UNION)\n",
        "print(set_1 | set_2)"
      ]
    },
    {
      "cell_type": "markdown",
      "metadata": {
        "id": "4CXV1nC70ySs"
      },
      "source": [
        "### Dictionary"
      ]
    },
    {
      "cell_type": "markdown",
      "metadata": {
        "id": "2kbvJbsC4bte"
      },
      "source": [
        "Dictionary is a data structure that enables us to have a direct access for specific value via the corresponding key. You can imagine this data structure just like the actual dictionary."
      ]
    },
    {
      "cell_type": "markdown",
      "metadata": {
        "id": "YKQ6SF9-5sb8"
      },
      "source": [
        "A dictionary contains of the `key-value` pairs. Key is responsible as the identifier on how to access the value. Here, the value can be any types of data, whether it is a list, string, integer, set, or even a dictionary."
      ]
    },
    {
      "cell_type": "code",
      "execution_count": null,
      "metadata": {
        "id": "-6q7RXqF5sNs",
        "outputId": "f79a6a7a-249c-4034-a244-0484ad102652",
        "colab": {
          "base_uri": "https://localhost:8080/"
        }
      },
      "outputs": [
        {
          "output_type": "stream",
          "name": "stdout",
          "text": [
            "{'Bell': 77, 'John': 96, 'Shinta': 83, 'Mark': 55}\n"
          ]
        }
      ],
      "source": [
        "# Let say we want to create a dictionary of test scores for each of the students\n",
        "score_dict = {'Bell':77,\n",
        "            'John':96,\n",
        "            'Shinta':83,\n",
        "            'Mark':55\n",
        "            }\n",
        "print(score_dict)"
      ]
    },
    {
      "cell_type": "code",
      "execution_count": null,
      "metadata": {
        "id": "OhlmIijk0z6u",
        "outputId": "3e7c77d1-ba2a-4b74-86bf-251dda149389",
        "colab": {
          "base_uri": "https://localhost:8080/"
        }
      },
      "outputs": [
        {
          "output_type": "stream",
          "name": "stdout",
          "text": [
            "96\n",
            "55\n"
          ]
        }
      ],
      "source": [
        "# We can access the score for each of the students via its key (name of the student)\n",
        "print(score_dict['John'])\n",
        "print(score_dict['Mark'])"
      ]
    },
    {
      "cell_type": "code",
      "execution_count": null,
      "metadata": {
        "id": "PaDa2Dfc690U",
        "outputId": "7a4948e0-54f2-47f9-bd37-2487b717db5c",
        "colab": {
          "base_uri": "https://localhost:8080/"
        }
      },
      "outputs": [
        {
          "output_type": "stream",
          "name": "stdout",
          "text": [
            "{'Bell': 77, 'John': 96, 'Shinta': 77, 'Mark': 55}\n"
          ]
        }
      ],
      "source": [
        "# We can add the element if there's new entry\n",
        "score_dict['Shinta'] = 77\n",
        "print(score_dict)"
      ]
    },
    {
      "cell_type": "code",
      "execution_count": null,
      "metadata": {
        "id": "m6bABl9R7Pk1",
        "outputId": "3aa5da5c-4fdb-4b91-8955-25b7f05b3716",
        "colab": {
          "base_uri": "https://localhost:8080/"
        }
      },
      "outputs": [
        {
          "output_type": "stream",
          "name": "stdout",
          "text": [
            "{'Bell': 77, 'John': 96, 'Shinta': 83, 'Mark': 55}\n"
          ]
        }
      ],
      "source": [
        "# We can change the value of previous entry\n",
        "score_dict['Shinta'] = 83\n",
        "print(score_dict)"
      ]
    },
    {
      "cell_type": "code",
      "execution_count": null,
      "metadata": {
        "id": "xyaeELxl7d9L",
        "outputId": "5eed12d9-8ffb-458e-fdf0-1a181ef641e7",
        "colab": {
          "base_uri": "https://localhost:8080/"
        }
      },
      "outputs": [
        {
          "output_type": "stream",
          "name": "stdout",
          "text": [
            "{'Bell': 77, 'John': 96, 'Mark': 55}\n"
          ]
        }
      ],
      "source": [
        "# We can also delete a specific entry\n",
        "del score_dict['Shinta']\n",
        "print(score_dict)"
      ]
    },
    {
      "cell_type": "code",
      "execution_count": null,
      "metadata": {
        "id": "yVDzP5Xr7mz2",
        "outputId": "ba4d2fb5-befa-47a6-ebc4-778b79f87b86",
        "colab": {
          "base_uri": "https://localhost:8080/"
        }
      },
      "outputs": [
        {
          "output_type": "stream",
          "name": "stdout",
          "text": [
            "dict_keys(['Bell', 'John', 'Mark'])\n",
            "dict_values([77, 96, 55])\n"
          ]
        }
      ],
      "source": [
        "# We'are also able to access the sequences of our dictionary keys and values\n",
        "print(score_dict.keys())\n",
        "print(score_dict.values())"
      ]
    },
    {
      "cell_type": "markdown",
      "metadata": {
        "id": "dxIXxQE3TAB3"
      },
      "source": [
        "### Assignment 1 :\n",
        "### Tugas Indeks Nilai :\n",
        "1. jika tidak ikut ujian maka printkan mahasiswa tidak lulus ujian, Jika nilai mahasiswa ada maka masukkan kedalam indeks nilai dan printkan mahasiswa ikut ujian :\n",
        "Masukan nilai mahasiswa\n",
        "nilai_mahasiswa = ....\n",
        "2. Jika nilai mahasiswa > 80 maka indeksnya A\n",
        "3. Jika nilai mahasiswa antara 70 s.d. 79 maka indeksnya B\n",
        "4. Jika nilai mahasiswa antara 50 s.d. 69 maka indeksnya C\n",
        "5. Jika nilai mahasiswa < 50 maka indeksnya D\n",
        "### Notes : Input logic kalau nilai harus ada di rentang 0 s.d 100, jika diluar itu maka keluarkan output kalau mahasiswa tidak ikut ujian atau input tidak valid\n",
        "\n",
        "### Assignment 2 :\n",
        "\n",
        "1. Buatlah list integer dengan isi 9 nilai didalamnya misal : [4,5,6,7,8,9,10,11,12] (ganti dengan nilai lain). Tulislah code untuk mengeluarkan nilai list indeks ke 1,3,4,5 dan -1,-3,3: misal [5,7,8,9] kalau yang punyaku dan juga [12,10,7] kalau yang punyaku. (bisa dalam list atau angka)\n",
        "2. Buatlah dictionary dengan key dengan nama depan, nama belakang, nama lengkap, tanggal pada tanggal lahir, bulan pada tanggal lahir, tahun pada tanggal lahir anda :\n",
        " ## - Notes simpan nama depan, nama belakang, nama lengkap, tanggal pada tanggal lahir, bulan lahir, tahun lahir dalam bentuk input nilai custom suatu variabelnya\n",
        "\n",
        "### Assignment 3 :\n",
        "Antrian pembelian kopi di Cafe ABCD memiliki ketentuan sebagai berikut :\n",
        "1. buatlah daftar pembelian dalam dictionary berupa pelanggan, antrian, pesanan pelanggan, dan uang yang dikeluarkan pelanggan sebagai inputan\n",
        "2. lalu coba tampilkan isi dari daftar pembelian tersebut\n",
        "3. Kemudian totalkan juga uang yang masuk dan jumlah pelanggan\n",
        "\n",
        "### Format Pengumpulan Tugas : NamaLengkap_DS_Sesi1_Sept.ipynb\n",
        "### ex : KurniaAnwarRa'if_DS_Sesi1_Sept.ipynb\n",
        "\n",
        "### Join Classroom : https://classroom.google.com/c/NTI0MzI2NTI3Mjcz?cjc=wqgjq6j\n",
        "### Pengumpulan tugas = Absensi\n",
        "# Notes Pertemuan 3 : Membahas tentang materi data structure dan memperdalam, serta jika ada kesulitan wajib untuk menanyakan secara langsung atau dibahas saat pertemuan 3."
      ]
    },
    {
      "cell_type": "code",
      "execution_count": null,
      "metadata": {
        "id": "5LNPj-5SvGlk",
        "colab": {
          "base_uri": "https://localhost:8080/"
        },
        "outputId": "bea631eb-ffec-4774-c729-4c31e3be0a92"
      },
      "outputs": [
        {
          "output_type": "stream",
          "name": "stdout",
          "text": [
            "5\n"
          ]
        }
      ],
      "source": [
        "#Materi tambahan pertemuan 2 : Nested Dictionary (Dictionary bersarang)\n",
        "dict_api = {\n",
        "  \"a\" : {\n",
        "    \"b\" : {\n",
        "        'c':[0,9]\n",
        "    },\n",
        "  \"d\" : {\n",
        "      'e' : [3,5]\n",
        "  }\n",
        "  }\n",
        "}\n",
        "\n",
        "print(dict_api['a']['d']['e'][1])\n"
      ]
    },
    {
      "cell_type": "code",
      "source": [
        "myfamily = {\n",
        "  \"child1\" : {\n",
        "    \"name\" : \"Emil,Kurnia,Anwar,Eka\",\n",
        "    \"year\" : 2004\n",
        "  },\n",
        "  \"child2\" : {\n",
        "    \"name\" : \"Tobias\",\n",
        "    \"year\" : 2007\n",
        "  },\n",
        "  \"child3\" : {\n",
        "    \"name\" : \"Linus\",\n",
        "    \"year\" : 2011\n",
        "  }\n",
        "}\n",
        "\n",
        "child1_detail_list = myfamily[\"child1\"][\"name\"]\n",
        "child1_detail_list\n"
      ],
      "metadata": {
        "id": "pUR1lFUwS40E",
        "outputId": "6263ad77-b9fc-4137-f741-2f5d447271a0",
        "colab": {
          "base_uri": "https://localhost:8080/",
          "height": 35
        }
      },
      "execution_count": null,
      "outputs": [
        {
          "output_type": "execute_result",
          "data": {
            "text/plain": [
              "'Emil,Kurnia,Anwar,Eka'"
            ],
            "application/vnd.google.colaboratory.intrinsic+json": {
              "type": "string"
            }
          },
          "metadata": {},
          "execution_count": 2
        }
      ]
    }
  ],
  "metadata": {
    "colab": {
      "provenance": []
    },
    "kernelspec": {
      "display_name": "Python 3 (ipykernel)",
      "language": "python",
      "name": "python3"
    },
    "language_info": {
      "codemirror_mode": {
        "name": "ipython",
        "version": 3
      },
      "file_extension": ".py",
      "mimetype": "text/x-python",
      "name": "python",
      "nbconvert_exporter": "python",
      "pygments_lexer": "ipython3",
      "version": "3.10.9"
    }
  },
  "nbformat": 4,
  "nbformat_minor": 0
}